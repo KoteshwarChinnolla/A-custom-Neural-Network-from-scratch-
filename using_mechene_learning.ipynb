{
  "cells": [
    {
      "cell_type": "markdown",
      "metadata": {},
      "source": [
        "**IMOPRTING LIBRARIES**"
      ]
    },
    {
      "cell_type": "code",
      "execution_count": 1,
      "metadata": {},
      "outputs": [],
      "source": [
        "import numpy as np\n",
        "import matplotlib.pyplot as plt\n",
        "import pandas as pd\n",
        "from sklearn.tree import DecisionTreeRegressor\n",
        "from sklearn.preprocessing import OneHotEncoder\n",
        "from sklearn.compose import make_column_transformer\n",
        "from sklearn.pipeline import make_pipeline\n",
        "from sklearn.metrics import r2_score\n",
        "from sklearn.linear_model import LinearRegression\n",
        "from sklearn.preprocessing import LabelEncoder\n",
        "from sklearn.model_selection import GridSearchCV"
      ]
    },
    {
      "cell_type": "markdown",
      "metadata": {},
      "source": [
        "**READING DATA USING PANDAS**"
      ]
    },
    {
      "cell_type": "code",
      "execution_count": 2,
      "metadata": {
        "id": "x1xyyswabzDo"
      },
      "outputs": [
        {
          "data": {
            "text/html": [
              "<div>\n",
              "<style scoped>\n",
              "    .dataframe tbody tr th:only-of-type {\n",
              "        vertical-align: middle;\n",
              "    }\n",
              "\n",
              "    .dataframe tbody tr th {\n",
              "        vertical-align: top;\n",
              "    }\n",
              "\n",
              "    .dataframe thead th {\n",
              "        text-align: right;\n",
              "    }\n",
              "</style>\n",
              "<table border=\"1\" class=\"dataframe\">\n",
              "  <thead>\n",
              "    <tr style=\"text-align: right;\">\n",
              "      <th></th>\n",
              "      <th>product</th>\n",
              "      <th>year</th>\n",
              "      <th>expiri duretion in years</th>\n",
              "      <th>month</th>\n",
              "      <th>no. of new products bought</th>\n",
              "      <th>no of products left for selling</th>\n",
              "      <th>no. of products sold</th>\n",
              "      <th>prodects left</th>\n",
              "      <th>no of products to be bought</th>\n",
              "      <th>demand %</th>\n",
              "    </tr>\n",
              "  </thead>\n",
              "  <tbody>\n",
              "    <tr>\n",
              "      <th>0</th>\n",
              "      <td>colgate</td>\n",
              "      <td>2019</td>\n",
              "      <td>2.0</td>\n",
              "      <td>1</td>\n",
              "      <td>60</td>\n",
              "      <td>60</td>\n",
              "      <td>46</td>\n",
              "      <td>0</td>\n",
              "      <td>46.0</td>\n",
              "      <td>76.666667</td>\n",
              "    </tr>\n",
              "    <tr>\n",
              "      <th>1</th>\n",
              "      <td>colgate</td>\n",
              "      <td>2019</td>\n",
              "      <td>2.0</td>\n",
              "      <td>2</td>\n",
              "      <td>32</td>\n",
              "      <td>46</td>\n",
              "      <td>38</td>\n",
              "      <td>14</td>\n",
              "      <td>24.0</td>\n",
              "      <td>118.750000</td>\n",
              "    </tr>\n",
              "    <tr>\n",
              "      <th>2</th>\n",
              "      <td>colgate</td>\n",
              "      <td>2019</td>\n",
              "      <td>2.0</td>\n",
              "      <td>3</td>\n",
              "      <td>40</td>\n",
              "      <td>62</td>\n",
              "      <td>47</td>\n",
              "      <td>22</td>\n",
              "      <td>25.0</td>\n",
              "      <td>117.500000</td>\n",
              "    </tr>\n",
              "    <tr>\n",
              "      <th>3</th>\n",
              "      <td>colgate</td>\n",
              "      <td>2019</td>\n",
              "      <td>2.0</td>\n",
              "      <td>4</td>\n",
              "      <td>36</td>\n",
              "      <td>51</td>\n",
              "      <td>40</td>\n",
              "      <td>15</td>\n",
              "      <td>25.0</td>\n",
              "      <td>111.111111</td>\n",
              "    </tr>\n",
              "    <tr>\n",
              "      <th>4</th>\n",
              "      <td>colgate</td>\n",
              "      <td>2019</td>\n",
              "      <td>2.0</td>\n",
              "      <td>5</td>\n",
              "      <td>56</td>\n",
              "      <td>67</td>\n",
              "      <td>58</td>\n",
              "      <td>11</td>\n",
              "      <td>47.0</td>\n",
              "      <td>103.571429</td>\n",
              "    </tr>\n",
              "    <tr>\n",
              "      <th>5</th>\n",
              "      <td>colgate</td>\n",
              "      <td>2019</td>\n",
              "      <td>2.0</td>\n",
              "      <td>6</td>\n",
              "      <td>41</td>\n",
              "      <td>50</td>\n",
              "      <td>39</td>\n",
              "      <td>9</td>\n",
              "      <td>30.0</td>\n",
              "      <td>95.121951</td>\n",
              "    </tr>\n",
              "    <tr>\n",
              "      <th>6</th>\n",
              "      <td>colgate</td>\n",
              "      <td>2019</td>\n",
              "      <td>2.0</td>\n",
              "      <td>7</td>\n",
              "      <td>58</td>\n",
              "      <td>69</td>\n",
              "      <td>51</td>\n",
              "      <td>11</td>\n",
              "      <td>40.0</td>\n",
              "      <td>87.931034</td>\n",
              "    </tr>\n",
              "    <tr>\n",
              "      <th>7</th>\n",
              "      <td>colgate</td>\n",
              "      <td>2019</td>\n",
              "      <td>2.0</td>\n",
              "      <td>8</td>\n",
              "      <td>31</td>\n",
              "      <td>47</td>\n",
              "      <td>47</td>\n",
              "      <td>16</td>\n",
              "      <td>31.0</td>\n",
              "      <td>151.612903</td>\n",
              "    </tr>\n",
              "    <tr>\n",
              "      <th>8</th>\n",
              "      <td>colgate</td>\n",
              "      <td>2019</td>\n",
              "      <td>2.0</td>\n",
              "      <td>9</td>\n",
              "      <td>100</td>\n",
              "      <td>100</td>\n",
              "      <td>56</td>\n",
              "      <td>0</td>\n",
              "      <td>56.0</td>\n",
              "      <td>56.000000</td>\n",
              "    </tr>\n",
              "    <tr>\n",
              "      <th>9</th>\n",
              "      <td>colgate</td>\n",
              "      <td>2019</td>\n",
              "      <td>2.0</td>\n",
              "      <td>10</td>\n",
              "      <td>0</td>\n",
              "      <td>44</td>\n",
              "      <td>44</td>\n",
              "      <td>44</td>\n",
              "      <td>44.0</td>\n",
              "      <td>44.000000</td>\n",
              "    </tr>\n",
              "    <tr>\n",
              "      <th>10</th>\n",
              "      <td>colgate</td>\n",
              "      <td>2019</td>\n",
              "      <td>2.0</td>\n",
              "      <td>11</td>\n",
              "      <td>38</td>\n",
              "      <td>38</td>\n",
              "      <td>16</td>\n",
              "      <td>0</td>\n",
              "      <td>16.0</td>\n",
              "      <td>42.105263</td>\n",
              "    </tr>\n",
              "    <tr>\n",
              "      <th>11</th>\n",
              "      <td>colgate</td>\n",
              "      <td>2019</td>\n",
              "      <td>2.0</td>\n",
              "      <td>12</td>\n",
              "      <td>30</td>\n",
              "      <td>52</td>\n",
              "      <td>48</td>\n",
              "      <td>22</td>\n",
              "      <td>26.0</td>\n",
              "      <td>160.000000</td>\n",
              "    </tr>\n",
              "    <tr>\n",
              "      <th>12</th>\n",
              "      <td>gemini  tea powder</td>\n",
              "      <td>2019</td>\n",
              "      <td>2.0</td>\n",
              "      <td>1</td>\n",
              "      <td>18</td>\n",
              "      <td>20</td>\n",
              "      <td>14</td>\n",
              "      <td>2</td>\n",
              "      <td>NaN</td>\n",
              "      <td>77.777778</td>\n",
              "    </tr>\n",
              "    <tr>\n",
              "      <th>13</th>\n",
              "      <td>gemini  tea powder</td>\n",
              "      <td>2019</td>\n",
              "      <td>2.0</td>\n",
              "      <td>2</td>\n",
              "      <td>22</td>\n",
              "      <td>28</td>\n",
              "      <td>18</td>\n",
              "      <td>6</td>\n",
              "      <td>NaN</td>\n",
              "      <td>81.818182</td>\n",
              "    </tr>\n",
              "    <tr>\n",
              "      <th>14</th>\n",
              "      <td>gemini  tea powder</td>\n",
              "      <td>2019</td>\n",
              "      <td>2.0</td>\n",
              "      <td>3</td>\n",
              "      <td>13</td>\n",
              "      <td>23</td>\n",
              "      <td>17</td>\n",
              "      <td>10</td>\n",
              "      <td>NaN</td>\n",
              "      <td>130.769231</td>\n",
              "    </tr>\n",
              "  </tbody>\n",
              "</table>\n",
              "</div>"
            ],
            "text/plain": [
              "               product  year  expiri duretion in years  month  \\\n",
              "0              colgate  2019                       2.0      1   \n",
              "1              colgate  2019                       2.0      2   \n",
              "2              colgate  2019                       2.0      3   \n",
              "3              colgate  2019                       2.0      4   \n",
              "4              colgate  2019                       2.0      5   \n",
              "5              colgate  2019                       2.0      6   \n",
              "6              colgate  2019                       2.0      7   \n",
              "7              colgate  2019                       2.0      8   \n",
              "8              colgate  2019                       2.0      9   \n",
              "9              colgate  2019                       2.0     10   \n",
              "10             colgate  2019                       2.0     11   \n",
              "11             colgate  2019                       2.0     12   \n",
              "12  gemini  tea powder  2019                       2.0      1   \n",
              "13  gemini  tea powder  2019                       2.0      2   \n",
              "14  gemini  tea powder  2019                       2.0      3   \n",
              "\n",
              "    no. of new products bought    no of products left for selling  \\\n",
              "0                             60                               60   \n",
              "1                             32                               46   \n",
              "2                             40                               62   \n",
              "3                             36                               51   \n",
              "4                             56                               67   \n",
              "5                             41                               50   \n",
              "6                             58                               69   \n",
              "7                             31                               47   \n",
              "8                            100                              100   \n",
              "9                              0                               44   \n",
              "10                            38                               38   \n",
              "11                            30                               52   \n",
              "12                            18                               20   \n",
              "13                            22                               28   \n",
              "14                            13                               23   \n",
              "\n",
              "    no. of products sold  prodects left  no of products to be bought  \\\n",
              "0                     46              0                         46.0   \n",
              "1                     38             14                         24.0   \n",
              "2                     47             22                         25.0   \n",
              "3                     40             15                         25.0   \n",
              "4                     58             11                         47.0   \n",
              "5                     39              9                         30.0   \n",
              "6                     51             11                         40.0   \n",
              "7                     47             16                         31.0   \n",
              "8                     56              0                         56.0   \n",
              "9                     44             44                         44.0   \n",
              "10                    16              0                         16.0   \n",
              "11                    48             22                         26.0   \n",
              "12                    14              2                          NaN   \n",
              "13                    18              6                          NaN   \n",
              "14                    17             10                          NaN   \n",
              "\n",
              "      demand %  \n",
              "0    76.666667  \n",
              "1   118.750000  \n",
              "2   117.500000  \n",
              "3   111.111111  \n",
              "4   103.571429  \n",
              "5    95.121951  \n",
              "6    87.931034  \n",
              "7   151.612903  \n",
              "8    56.000000  \n",
              "9    44.000000  \n",
              "10   42.105263  \n",
              "11  160.000000  \n",
              "12   77.777778  \n",
              "13   81.818182  \n",
              "14  130.769231  "
            ]
          },
          "execution_count": 2,
          "metadata": {},
          "output_type": "execute_result"
        }
      ],
      "source": [
        "data = pd.read_csv('prod_.csv')\n",
        "data.head(15)"
      ]
    },
    {
      "cell_type": "code",
      "execution_count": 3,
      "metadata": {
        "colab": {
          "base_uri": "https://localhost:8080/"
        },
        "id": "LoiUYBtyZxfw",
        "outputId": "31e0163f-2d7b-462d-834b-65e3fc6ff445"
      },
      "outputs": [
        {
          "data": {
            "text/plain": [
              "array(['colgate', 'gemini  tea powder', 'suger', 'freedom sunflower oil',\n",
              "       'life boy soap', 'santoor'], dtype=object)"
            ]
          },
          "execution_count": 3,
          "metadata": {},
          "output_type": "execute_result"
        }
      ],
      "source": [
        "data['product'].unique()"
      ]
    },
    {
      "cell_type": "markdown",
      "metadata": {},
      "source": [
        "**ENCODING DATA**"
      ]
    },
    {
      "cell_type": "code",
      "execution_count": 4,
      "metadata": {
        "id": "uin087ONcNHW"
      },
      "outputs": [],
      "source": [
        "ohe = OneHotEncoder()\n",
        "ohe.fit(data[['product']])\n",
        "ct=make_column_transformer((OneHotEncoder(),[0]),remainder='passthrough')"
      ]
    },
    {
      "cell_type": "markdown",
      "metadata": {},
      "source": [
        "**DENPENDENT AND INDIPENDENT VARIABLES**"
      ]
    },
    {
      "cell_type": "code",
      "execution_count": 5,
      "metadata": {
        "id": "xo_6ixhNWbpK"
      },
      "outputs": [],
      "source": [
        "x = data.iloc[:,[0,1,3]].values\n",
        "y = data.iloc[:, [6]].values"
      ]
    },
    {
      "cell_type": "code",
      "execution_count": 6,
      "metadata": {},
      "outputs": [
        {
          "data": {
            "text/plain": [
              "array([0.6, 1. ])"
            ]
          },
          "execution_count": 6,
          "metadata": {},
          "output_type": "execute_result"
        }
      ],
      "source": [
        "o=data.iloc[36:68,[2]]\n",
        "o['expiri duretion in years'].unique()"
      ]
    },
    {
      "cell_type": "code",
      "execution_count": 7,
      "metadata": {
        "id": "3-ov31wXIJup"
      },
      "outputs": [],
      "source": [
        "from sklearn.preprocessing import StandardScaler\n",
        "sc = StandardScaler()"
      ]
    },
    {
      "cell_type": "code",
      "execution_count": 8,
      "metadata": {},
      "outputs": [
        {
          "name": "stdout",
          "output_type": "stream",
          "text": [
            "[['colgate' 2019 1]\n",
            " ['colgate' 2019 2]\n",
            " ['colgate' 2019 3]\n",
            " ['colgate' 2019 4]\n",
            " ['colgate' 2019 5]\n",
            " ['colgate' 2019 6]\n",
            " ['colgate' 2019 7]\n",
            " ['colgate' 2019 8]\n",
            " ['colgate' 2019 9]\n",
            " ['colgate' 2019 10]\n",
            " ['colgate' 2019 11]\n",
            " ['colgate' 2019 12]\n",
            " ['gemini  tea powder' 2019 1]\n",
            " ['gemini  tea powder' 2019 2]\n",
            " ['gemini  tea powder' 2019 3]\n",
            " ['gemini  tea powder' 2019 4]\n",
            " ['gemini  tea powder' 2019 5]\n",
            " ['gemini  tea powder' 2019 6]\n",
            " ['gemini  tea powder' 2019 7]\n",
            " ['gemini  tea powder' 2019 8]\n",
            " ['gemini  tea powder' 2019 9]\n",
            " ['gemini  tea powder' 2019 10]\n",
            " ['gemini  tea powder' 2019 11]\n",
            " ['gemini  tea powder' 2019 12]\n",
            " ['suger' 2019 1]\n",
            " ['suger' 2019 2]\n",
            " ['suger' 2019 3]\n",
            " ['suger' 2019 4]\n",
            " ['suger' 2019 5]\n",
            " ['suger' 2019 6]\n",
            " ['suger' 2019 7]\n",
            " ['suger' 2019 8]\n",
            " ['suger' 2019 9]\n",
            " ['suger' 2019 10]\n",
            " ['suger' 2019 11]\n",
            " ['suger' 2019 12]\n",
            " ['freedom sunflower oil' 2019 1]\n",
            " ['freedom sunflower oil' 2019 2]\n",
            " ['freedom sunflower oil' 2019 3]\n",
            " ['freedom sunflower oil' 2019 4]\n",
            " ['freedom sunflower oil' 2019 5]\n",
            " ['freedom sunflower oil' 2019 6]\n",
            " ['freedom sunflower oil' 2019 7]\n",
            " ['freedom sunflower oil' 2019 8]\n",
            " ['freedom sunflower oil' 2019 9]\n",
            " ['freedom sunflower oil' 2019 10]\n",
            " ['freedom sunflower oil' 2019 11]\n",
            " ['freedom sunflower oil' 2019 12]\n",
            " ['life boy soap' 2019 1]\n",
            " ['life boy soap' 2019 2]\n",
            " ['life boy soap' 2019 3]\n",
            " ['life boy soap' 2019 4]\n",
            " ['life boy soap' 2019 5]\n",
            " ['life boy soap' 2019 6]\n",
            " ['life boy soap' 2019 7]\n",
            " ['life boy soap' 2019 8]\n",
            " ['life boy soap' 2019 9]\n",
            " ['life boy soap' 2019 10]\n",
            " ['life boy soap' 2019 11]\n",
            " ['life boy soap' 2019 12]\n",
            " ['santoor' 2019 1]\n",
            " ['santoor' 2019 2]\n",
            " ['santoor' 2019 3]\n",
            " ['santoor' 2019 4]\n",
            " ['santoor' 2019 5]\n",
            " ['santoor' 2019 6]\n",
            " ['santoor' 2019 7]\n",
            " ['santoor' 2019 8]\n",
            " ['santoor' 2019 9]\n",
            " ['santoor' 2019 10]\n",
            " ['santoor' 2019 11]\n",
            " ['santoor' 2019 12]\n",
            " ['colgate' 2020 1]\n",
            " ['colgate' 2020 2]\n",
            " ['colgate' 2020 3]\n",
            " ['colgate' 2020 4]\n",
            " ['colgate' 2020 5]\n",
            " ['colgate' 2020 6]\n",
            " ['colgate' 2020 7]\n",
            " ['colgate' 2020 8]\n",
            " ['colgate' 2020 9]\n",
            " ['colgate' 2020 10]\n",
            " ['colgate' 2020 11]\n",
            " ['colgate' 2020 12]\n",
            " ['gemini  tea powder' 2020 1]\n",
            " ['gemini  tea powder' 2020 2]\n",
            " ['gemini  tea powder' 2020 3]\n",
            " ['gemini  tea powder' 2020 4]\n",
            " ['gemini  tea powder' 2020 5]\n",
            " ['gemini  tea powder' 2020 6]\n",
            " ['gemini  tea powder' 2020 7]\n",
            " ['gemini  tea powder' 2020 8]\n",
            " ['gemini  tea powder' 2020 9]\n",
            " ['gemini  tea powder' 2020 10]\n",
            " ['gemini  tea powder' 2020 11]\n",
            " ['gemini  tea powder' 2020 12]\n",
            " ['suger' 2020 1]\n",
            " ['suger' 2020 2]\n",
            " ['suger' 2020 3]\n",
            " ['suger' 2020 4]\n",
            " ['suger' 2020 5]\n",
            " ['suger' 2020 6]\n",
            " ['suger' 2020 7]\n",
            " ['suger' 2020 8]\n",
            " ['suger' 2020 9]\n",
            " ['suger' 2020 10]\n",
            " ['suger' 2020 11]\n",
            " ['suger' 2020 12]\n",
            " ['freedom sunflower oil' 2020 1]\n",
            " ['freedom sunflower oil' 2020 2]\n",
            " ['freedom sunflower oil' 2020 3]\n",
            " ['freedom sunflower oil' 2020 4]\n",
            " ['freedom sunflower oil' 2020 5]\n",
            " ['freedom sunflower oil' 2020 6]\n",
            " ['freedom sunflower oil' 2020 7]\n",
            " ['freedom sunflower oil' 2020 8]\n",
            " ['freedom sunflower oil' 2020 9]\n",
            " ['freedom sunflower oil' 2020 10]\n",
            " ['freedom sunflower oil' 2020 11]\n",
            " ['freedom sunflower oil' 2020 12]\n",
            " ['life boy soap' 2020 1]\n",
            " ['life boy soap' 2020 2]\n",
            " ['life boy soap' 2020 3]\n",
            " ['life boy soap' 2020 4]\n",
            " ['life boy soap' 2020 5]\n",
            " ['life boy soap' 2020 6]\n",
            " ['life boy soap' 2020 7]\n",
            " ['life boy soap' 2020 8]\n",
            " ['life boy soap' 2020 9]\n",
            " ['life boy soap' 2020 10]\n",
            " ['life boy soap' 2020 11]\n",
            " ['life boy soap' 2020 12]\n",
            " ['santoor' 2020 1]\n",
            " ['santoor' 2020 2]\n",
            " ['santoor' 2020 3]\n",
            " ['santoor' 2020 4]\n",
            " ['santoor' 2020 5]\n",
            " ['santoor' 2020 6]\n",
            " ['santoor' 2020 7]\n",
            " ['santoor' 2020 8]\n",
            " ['santoor' 2020 9]\n",
            " ['santoor' 2020 10]\n",
            " ['santoor' 2020 11]\n",
            " ['santoor' 2020 12]\n",
            " ['colgate' 2021 1]\n",
            " ['colgate' 2021 2]\n",
            " ['colgate' 2021 3]\n",
            " ['colgate' 2021 4]\n",
            " ['colgate' 2021 5]\n",
            " ['colgate' 2021 6]\n",
            " ['colgate' 2021 7]\n",
            " ['colgate' 2021 8]\n",
            " ['colgate' 2021 9]\n",
            " ['colgate' 2021 10]\n",
            " ['colgate' 2021 11]\n",
            " ['colgate' 2021 12]\n",
            " ['gemini  tea powder' 2021 1]\n",
            " ['gemini  tea powder' 2021 2]\n",
            " ['gemini  tea powder' 2021 3]\n",
            " ['gemini  tea powder' 2021 4]\n",
            " ['gemini  tea powder' 2021 5]\n",
            " ['gemini  tea powder' 2021 6]\n",
            " ['gemini  tea powder' 2021 7]\n",
            " ['gemini  tea powder' 2021 8]\n",
            " ['gemini  tea powder' 2021 9]\n",
            " ['gemini  tea powder' 2021 10]\n",
            " ['gemini  tea powder' 2021 11]\n",
            " ['gemini  tea powder' 2021 12]\n",
            " ['suger' 2021 1]\n",
            " ['suger' 2021 2]\n",
            " ['suger' 2021 3]\n",
            " ['suger' 2021 4]\n",
            " ['suger' 2021 5]\n",
            " ['suger' 2021 6]\n",
            " ['suger' 2021 7]\n",
            " ['suger' 2021 8]\n",
            " ['suger' 2021 9]\n",
            " ['suger' 2021 10]\n",
            " ['suger' 2021 11]\n",
            " ['suger' 2021 12]\n",
            " ['freedom sunflower oil' 2021 1]\n",
            " ['freedom sunflower oil' 2021 2]\n",
            " ['freedom sunflower oil' 2021 3]\n",
            " ['freedom sunflower oil' 2021 4]\n",
            " ['freedom sunflower oil' 2021 5]\n",
            " ['freedom sunflower oil' 2021 6]\n",
            " ['freedom sunflower oil' 2021 7]\n",
            " ['freedom sunflower oil' 2021 8]\n",
            " ['freedom sunflower oil' 2021 9]\n",
            " ['freedom sunflower oil' 2021 10]\n",
            " ['freedom sunflower oil' 2021 11]\n",
            " ['freedom sunflower oil' 2021 12]\n",
            " ['life boy soap' 2021 1]\n",
            " ['life boy soap' 2021 2]\n",
            " ['life boy soap' 2021 3]\n",
            " ['life boy soap' 2021 4]\n",
            " ['life boy soap' 2021 5]\n",
            " ['life boy soap' 2021 6]\n",
            " ['life boy soap' 2021 7]\n",
            " ['life boy soap' 2021 8]\n",
            " ['life boy soap' 2021 9]\n",
            " ['life boy soap' 2021 10]\n",
            " ['life boy soap' 2021 11]\n",
            " ['life boy soap' 2021 12]\n",
            " ['gemini  tea powder' 2022 1]\n",
            " ['gemini  tea powder' 2022 2]\n",
            " ['gemini  tea powder' 2022 3]\n",
            " ['gemini  tea powder' 2022 4]\n",
            " ['gemini  tea powder' 2022 5]\n",
            " ['suger' 2022 1]\n",
            " ['suger' 2022 2]\n",
            " ['suger' 2022 3]\n",
            " ['suger' 2022 4]\n",
            " ['suger' 2022 5]\n",
            " ['freedom sunflower oil' 2022 1]\n",
            " ['freedom sunflower oil' 2022 2]\n",
            " ['freedom sunflower oil' 2022 3]\n",
            " ['freedom sunflower oil' 2022 4]\n",
            " ['freedom sunflower oil' 2022 5]\n",
            " ['life boy soap' 2022 1]\n",
            " ['life boy soap' 2022 2]\n",
            " ['life boy soap' 2022 3]\n",
            " ['life boy soap' 2022 4]\n",
            " ['life boy soap' 2022 5]]\n"
          ]
        }
      ],
      "source": [
        "print(x)"
      ]
    },
    {
      "cell_type": "markdown",
      "metadata": {},
      "source": [
        "**DIVIDING THE DATA INTO TRAINING AND TESTING SET**"
      ]
    },
    {
      "cell_type": "code",
      "execution_count": 10,
      "metadata": {
        "id": "CXvJXOPhc34E"
      },
      "outputs": [],
      "source": [
        "from sklearn.model_selection import train_test_split\n",
        "x_train, x_test, y_train, y_test = train_test_split(x, y, test_size = 0.175, random_state=0)"
      ]
    },
    {
      "cell_type": "code",
      "execution_count": 11,
      "metadata": {
        "id": "1GChiDgvbnel"
      },
      "outputs": [
        {
          "data": {
            "text/plain": [
              "array([['suger', 2020, 1],\n",
              "       ['life boy soap', 2021, 12],\n",
              "       ['suger', 2021, 2],\n",
              "       ['santoor', 2020, 5],\n",
              "       ['freedom sunflower oil', 2021, 3],\n",
              "       ['colgate', 2021, 7],\n",
              "       ['freedom sunflower oil', 2019, 9],\n",
              "       ['life boy soap', 2021, 7],\n",
              "       ['santoor', 2019, 5],\n",
              "       ['colgate', 2019, 9],\n",
              "       ['suger', 2020, 12],\n",
              "       ['freedom sunflower oil', 2019, 2],\n",
              "       ['colgate', 2019, 6],\n",
              "       ['colgate', 2021, 2],\n",
              "       ['santoor', 2019, 4],\n",
              "       ['freedom sunflower oil', 2021, 5],\n",
              "       ['santoor', 2020, 8],\n",
              "       ['gemini  tea powder', 2022, 3],\n",
              "       ['gemini  tea powder', 2022, 4],\n",
              "       ['gemini  tea powder', 2020, 7],\n",
              "       ['freedom sunflower oil', 2020, 3],\n",
              "       ['colgate', 2020, 3],\n",
              "       ['life boy soap', 2020, 6],\n",
              "       ['colgate', 2020, 4],\n",
              "       ['colgate', 2021, 12],\n",
              "       ['gemini  tea powder', 2019, 1],\n",
              "       ['gemini  tea powder', 2021, 3],\n",
              "       ['gemini  tea powder', 2021, 5],\n",
              "       ['life boy soap', 2020, 5],\n",
              "       ['santoor', 2020, 4],\n",
              "       ['life boy soap', 2019, 8],\n",
              "       ['suger', 2020, 9],\n",
              "       ['gemini  tea powder', 2021, 1],\n",
              "       ['suger', 2021, 4],\n",
              "       ['gemini  tea powder', 2019, 7],\n",
              "       ['gemini  tea powder', 2019, 4],\n",
              "       ['gemini  tea powder', 2020, 9],\n",
              "       ['colgate', 2019, 8],\n",
              "       ['colgate', 2020, 5],\n",
              "       ['gemini  tea powder', 2021, 7]], dtype=object)"
            ]
          },
          "execution_count": 11,
          "metadata": {},
          "output_type": "execute_result"
        }
      ],
      "source": [
        "x_test"
      ]
    },
    {
      "cell_type": "code",
      "execution_count": 20,
      "metadata": {
        "id": "36Kgz_vDs7aw"
      },
      "outputs": [],
      "source": [
        "import warnings\n",
        "warnings.simplefilter(action='ignore', category=FutureWarning)\n",
        "warnings.simplefilter(action='ignore', category=UserWarning)"
      ]
    },
    {
      "cell_type": "markdown",
      "metadata": {},
      "source": [
        "# **REGRESSION MODELS**"
      ]
    },
    {
      "cell_type": "markdown",
      "metadata": {},
      "source": [
        "# Support Vector Machine"
      ]
    },
    {
      "cell_type": "code",
      "execution_count": 21,
      "metadata": {},
      "outputs": [
        {
          "data": {
            "text/plain": [
              "{'C': 1.0,\n",
              " 'break_ties': False,\n",
              " 'cache_size': 200,\n",
              " 'class_weight': None,\n",
              " 'coef0': 0.0,\n",
              " 'decision_function_shape': 'ovr',\n",
              " 'degree': 3,\n",
              " 'gamma': 'scale',\n",
              " 'kernel': 'rbf',\n",
              " 'max_iter': -1,\n",
              " 'probability': False,\n",
              " 'random_state': None,\n",
              " 'shrinking': True,\n",
              " 'tol': 0.001,\n",
              " 'verbose': False}"
            ]
          },
          "execution_count": 21,
          "metadata": {},
          "output_type": "execute_result"
        }
      ],
      "source": [
        "from sklearn.model_selection import GridSearchCV, KFold, cross_val_score\n",
        "from sklearn.svm import SVC\n",
        "svm=SVC()\n",
        "svm.get_params()"
      ]
    },
    {
      "cell_type": "code",
      "execution_count": 22,
      "metadata": {},
      "outputs": [],
      "source": [
        "param_grid = {'C': [0.1, 1, 10, 100, 1000], 'gamma': [1, 0.1, 0.01, 0.001, 0.0001], 'kernel': ['rbf']}\n",
        "est=GridSearchCV(svm,param_grid=param_grid,scoring='r2',cv=5)\n"
      ]
    },
    {
      "cell_type": "code",
      "execution_count": 25,
      "metadata": {},
      "outputs": [
        {
          "data": {
            "text/plain": [
              "Pipeline(steps=[('columntransformer',\n",
              "                 ColumnTransformer(remainder='passthrough',\n",
              "                                   transformers=[('onehotencoder',\n",
              "                                                  OneHotEncoder(), [0])])),\n",
              "                ('gridsearchcv',\n",
              "                 GridSearchCV(cv=5, estimator=SVC(),\n",
              "                              param_grid={'C': [0.1, 1, 10, 100, 1000],\n",
              "                                          'gamma': [1, 0.1, 0.01, 0.001,\n",
              "                                                    0.0001],\n",
              "                                          'kernel': ['rbf']},\n",
              "                              scoring='r2'))])"
            ]
          },
          "execution_count": 25,
          "metadata": {},
          "output_type": "execute_result"
        }
      ],
      "source": [
        "from pandas.core.algorithms import mode\n",
        "pipeSVM=make_pipeline(ct,est)\n",
        "pipeSVM.fit(x_train,y_train)"
      ]
    },
    {
      "cell_type": "code",
      "execution_count": 31,
      "metadata": {},
      "outputs": [
        {
          "name": "stdout",
          "output_type": "stream",
          "text": [
            "[0.8892937  0.70303015 0.9228269  0.82491259 0.77125228]\n"
          ]
        }
      ],
      "source": [
        "from sklearn.model_selection import cross_val_score\n",
        "from sklearn.model_selection import cross_validate\n",
        "from sklearn.metrics import recall_score\n",
        "scoring = ['precision_macro', 'recall_macro']\n",
        "scores = cross_val_score(pipeSVM, x, y, scoring='r2')\n",
        "print(scores)"
      ]
    },
    {
      "cell_type": "code",
      "execution_count": 32,
      "metadata": {},
      "outputs": [
        {
          "data": {
            "text/plain": [
              "0.9526413375722814"
            ]
          },
          "execution_count": 32,
          "metadata": {},
          "output_type": "execute_result"
        }
      ],
      "source": [
        "y_pred= pipeSVM.predict(x_test)\n",
        "score = r2_score(y_pred,y_test)\n",
        "score"
      ]
    },
    {
      "cell_type": "markdown",
      "metadata": {},
      "source": [
        "# Linear Regression"
      ]
    },
    {
      "cell_type": "code",
      "execution_count": 33,
      "metadata": {},
      "outputs": [
        {
          "data": {
            "text/plain": [
              "{'copy_X': True,\n",
              " 'fit_intercept': True,\n",
              " 'n_jobs': None,\n",
              " 'normalize': 'deprecated',\n",
              " 'positive': False}"
            ]
          },
          "execution_count": 33,
          "metadata": {},
          "output_type": "execute_result"
        }
      ],
      "source": [
        "lr = LinearRegression()\n",
        "lr.get_params()"
      ]
    },
    {
      "cell_type": "code",
      "execution_count": 34,
      "metadata": {
        "colab": {
          "base_uri": "https://localhost:8080/"
        },
        "id": "_DRwxBYRmMgx",
        "outputId": "d6887d85-55ce-4cdb-a5a7-885f7052ee24"
      },
      "outputs": [
        {
          "data": {
            "text/plain": [
              "Pipeline(steps=[('columntransformer',\n",
              "                 ColumnTransformer(remainder='passthrough',\n",
              "                                   transformers=[('onehotencoder',\n",
              "                                                  OneHotEncoder(), [0])])),\n",
              "                ('linearregression', LinearRegression())])"
            ]
          },
          "execution_count": 34,
          "metadata": {},
          "output_type": "execute_result"
        }
      ],
      "source": [
        "from pandas.core.algorithms import mode\n",
        "from sklearn import pipeline\n",
        "pipeLR=make_pipeline(ct,lr)\n",
        "pipeLR.fit(x_train,y_train)"
      ]
    },
    {
      "cell_type": "code",
      "execution_count": 35,
      "metadata": {},
      "outputs": [
        {
          "data": {
            "text/plain": [
              "0.9653430574119966"
            ]
          },
          "execution_count": 35,
          "metadata": {},
          "output_type": "execute_result"
        }
      ],
      "source": [
        "y_pred= pipeLR.predict(x_test)\n",
        "score = r2_score(y_pred,y_test)\n",
        "score"
      ]
    },
    {
      "cell_type": "markdown",
      "metadata": {},
      "source": [
        "# Linear Regression using **RIGDE** and **LASO**"
      ]
    },
    {
      "cell_type": "code",
      "execution_count": 37,
      "metadata": {},
      "outputs": [
        {
          "data": {
            "text/plain": [
              "{'alpha': 1.0,\n",
              " 'copy_X': True,\n",
              " 'fit_intercept': True,\n",
              " 'max_iter': None,\n",
              " 'normalize': 'deprecated',\n",
              " 'positive': False,\n",
              " 'random_state': None,\n",
              " 'solver': 'auto',\n",
              " 'tol': 0.001}"
            ]
          },
          "execution_count": 37,
          "metadata": {},
          "output_type": "execute_result"
        }
      ],
      "source": [
        "from sklearn.linear_model import Ridge\n",
        "ridge=Ridge()\n",
        "ridge.get_params()"
      ]
    },
    {
      "cell_type": "markdown",
      "metadata": {},
      "source": [
        "here we are trying out different alpha and solver value"
      ]
    },
    {
      "cell_type": "code",
      "execution_count": 38,
      "metadata": {},
      "outputs": [],
      "source": [
        "param_grid = {\n",
        "    'alpha': [0.1, 1.0, 10.0, 100.0],\n",
        "    'solver': ['auto', 'svd', 'cholesky', 'lsqr', 'sparse_cg', 'sag', 'saga']\n",
        "}\n",
        "estRIDGE=GridSearchCV(ridge,param_grid=param_grid,scoring='r2',cv=5)"
      ]
    },
    {
      "cell_type": "code",
      "execution_count": 39,
      "metadata": {},
      "outputs": [
        {
          "data": {
            "text/plain": [
              "Pipeline(steps=[('columntransformer',\n",
              "                 ColumnTransformer(remainder='passthrough',\n",
              "                                   transformers=[('onehotencoder',\n",
              "                                                  OneHotEncoder(), [0])])),\n",
              "                ('gridsearchcv',\n",
              "                 GridSearchCV(cv=5, estimator=Ridge(),\n",
              "                              param_grid={'alpha': [0.1, 1.0, 10.0, 100.0],\n",
              "                                          'solver': ['auto', 'svd', 'cholesky',\n",
              "                                                     'lsqr', 'sparse_cg', 'sag',\n",
              "                                                     'saga']},\n",
              "                              scoring='r2'))])"
            ]
          },
          "execution_count": 39,
          "metadata": {},
          "output_type": "execute_result"
        }
      ],
      "source": [
        "pipeRIDGE=make_pipeline(ct,estRIDGE)\n",
        "pipeRIDGE.fit(x_train,y_train)"
      ]
    },
    {
      "cell_type": "code",
      "execution_count": 46,
      "metadata": {},
      "outputs": [
        {
          "data": {
            "text/plain": [
              "{'alpha': 1.0, 'solver': 'lsqr'}"
            ]
          },
          "execution_count": 46,
          "metadata": {},
          "output_type": "execute_result"
        }
      ],
      "source": [
        "estRIDGE.best_params_"
      ]
    },
    {
      "cell_type": "code",
      "execution_count": 40,
      "metadata": {},
      "outputs": [
        {
          "name": "stdout",
          "output_type": "stream",
          "text": [
            "[0.8701323  0.54741397 0.93417797 0.96916535 0.88637841]\n"
          ]
        }
      ],
      "source": [
        "from sklearn.model_selection import cross_val_score\n",
        "from sklearn.model_selection import cross_validate\n",
        "from sklearn.metrics import recall_score\n",
        "scoring = ['precision_macro', 'recall_macro']\n",
        "scores = cross_val_score(pipeRIDGE, x, y, scoring='r2')\n",
        "print(scores)"
      ]
    },
    {
      "cell_type": "code",
      "execution_count": 41,
      "metadata": {},
      "outputs": [
        {
          "data": {
            "text/plain": [
              "0.9645861866125512"
            ]
          },
          "execution_count": 41,
          "metadata": {},
          "output_type": "execute_result"
        }
      ],
      "source": [
        "y_pred= pipeRIDGE.predict(x_test)\n",
        "score = r2_score(y_pred,y_test)\n",
        "score"
      ]
    },
    {
      "cell_type": "markdown",
      "metadata": {},
      "source": [
        "**using laso regression**"
      ]
    },
    {
      "cell_type": "code",
      "execution_count": 42,
      "metadata": {},
      "outputs": [
        {
          "data": {
            "text/plain": [
              "{'alpha': 1.0,\n",
              " 'copy_X': True,\n",
              " 'fit_intercept': True,\n",
              " 'max_iter': 1000,\n",
              " 'normalize': 'deprecated',\n",
              " 'positive': False,\n",
              " 'precompute': False,\n",
              " 'random_state': None,\n",
              " 'selection': 'cyclic',\n",
              " 'tol': 0.0001,\n",
              " 'warm_start': False}"
            ]
          },
          "execution_count": 42,
          "metadata": {},
          "output_type": "execute_result"
        }
      ],
      "source": [
        "from sklearn.linear_model import Lasso\n",
        "lasso=Lasso()\n",
        "lasso.get_params()"
      ]
    },
    {
      "cell_type": "code",
      "execution_count": 47,
      "metadata": {},
      "outputs": [],
      "source": [
        "param_grid = {\n",
        "    'alpha': [0.01, 0.1, 1.0, 10.0, 100.0],\n",
        "    'max_iter': [1000, 5000, 10000]\n",
        "}\n",
        "estLASSO=GridSearchCV(lasso,param_grid=param_grid,scoring='r2',cv=5)"
      ]
    },
    {
      "cell_type": "code",
      "execution_count": 48,
      "metadata": {},
      "outputs": [
        {
          "data": {
            "text/plain": [
              "Pipeline(steps=[('columntransformer',\n",
              "                 ColumnTransformer(remainder='passthrough',\n",
              "                                   transformers=[('onehotencoder',\n",
              "                                                  OneHotEncoder(), [0])])),\n",
              "                ('gridsearchcv',\n",
              "                 GridSearchCV(cv=5, estimator=Lasso(),\n",
              "                              param_grid={'alpha': [0.01, 0.1, 1.0, 10.0,\n",
              "                                                    100.0],\n",
              "                                          'max_iter': [1000, 5000, 10000]},\n",
              "                              scoring='r2'))])"
            ]
          },
          "execution_count": 48,
          "metadata": {},
          "output_type": "execute_result"
        }
      ],
      "source": [
        "pipeLASSO=make_pipeline(ct,estLASSO)\n",
        "pipeLASSO.fit(x_train,y_train)"
      ]
    },
    {
      "cell_type": "code",
      "execution_count": 49,
      "metadata": {},
      "outputs": [
        {
          "data": {
            "text/plain": [
              "{'alpha': 0.1, 'max_iter': 1000}"
            ]
          },
          "execution_count": 49,
          "metadata": {},
          "output_type": "execute_result"
        }
      ],
      "source": [
        "estLASSO.best_params_"
      ]
    },
    {
      "cell_type": "code",
      "execution_count": 50,
      "metadata": {},
      "outputs": [
        {
          "data": {
            "text/plain": [
              "0.9655277832302975"
            ]
          },
          "execution_count": 50,
          "metadata": {},
          "output_type": "execute_result"
        }
      ],
      "source": [
        "y_pred= pipeLASSO.predict(x_test)\n",
        "score = r2_score(y_pred,y_test)\n",
        "score"
      ]
    },
    {
      "cell_type": "markdown",
      "metadata": {
        "id": "SoDqgQ0G7X0N"
      },
      "source": [
        "# DecisionTreeRegressor"
      ]
    },
    {
      "cell_type": "code",
      "execution_count": 24,
      "metadata": {
        "colab": {
          "base_uri": "https://localhost:8080/"
        },
        "id": "To02FPhG1pa-",
        "outputId": "6143c87e-cb6b-4304-cb03-cef60b7f63cb"
      },
      "outputs": [
        {
          "data": {
            "text/plain": [
              "0.9045437732782886"
            ]
          },
          "execution_count": 24,
          "metadata": {},
          "output_type": "execute_result"
        }
      ],
      "source": [
        "from sklearn.tree import DecisionTreeRegressor\n",
        "from sklearn.metrics import fbeta_score, make_scorer\n",
        "dt = DecisionTreeRegressor()\n",
        "parameters = {'max_depth':(1,2,3,4,5,6,7,8,9,10)}\n",
        "scoring_function = make_scorer(fbeta_score, beta=2)\n",
        "dtg = GridSearchCV(dt, param_grid=parameters, scoring=scoring_function)\n",
        "piped = make_pipeline(ct,sc,dtg)\n",
        "piped.fit(x_train,y_train)\n",
        "y_pred=piped.predict(x_test)\n",
        "r2_score(y_test,y_pred)"
      ]
    },
    {
      "cell_type": "markdown",
      "metadata": {
        "id": "3AWvXWcbBwsu"
      },
      "source": [
        "# RandomForestRegressor"
      ]
    },
    {
      "cell_type": "code",
      "execution_count": 28,
      "metadata": {
        "colab": {
          "base_uri": "https://localhost:8080/"
        },
        "id": "G1CSqpxb_bid",
        "outputId": "7378c6f7-83e3-47bb-cb2e-3f10d7a687c1"
      },
      "outputs": [
        {
          "data": {
            "text/plain": [
              "0.9692382393639462"
            ]
          },
          "execution_count": 28,
          "metadata": {},
          "output_type": "execute_result"
        }
      ],
      "source": [
        "from sklearn.ensemble import RandomForestRegressor\n",
        "estimator = RandomForestRegressor()\n",
        "\n",
        "piper = make_pipeline(ct,estimator)\n",
        "piper.fit(x_train, y_train)\n",
        "y_pred= piper.predict(x_test)\n",
        "r2_score(y_test, y_pred)"
      ]
    },
    {
      "cell_type": "code",
      "execution_count": null,
      "metadata": {},
      "outputs": [],
      "source": []
    },
    {
      "cell_type": "code",
      "execution_count": 29,
      "metadata": {},
      "outputs": [
        {
          "data": {
            "text/plain": [
              "array([408.94])"
            ]
          },
          "execution_count": 29,
          "metadata": {},
          "output_type": "execute_result"
        }
      ],
      "source": [
        "piper.predict([['suger',2023,1]])"
      ]
    },
    {
      "cell_type": "code",
      "execution_count": 30,
      "metadata": {
        "id": "uosZibJpuAmw"
      },
      "outputs": [
        {
          "name": "stderr",
          "output_type": "stream",
          "text": [
            "C:\\Users\\Chinnnolla Koteshwar\\AppData\\Local\\Temp\\ipykernel_16324\\1775140384.py:4: DeprecationWarning: Conversion of an array with ndim > 0 to a scalar is deprecated, and will error in future. Ensure you extract a single element from your array before performing this operation. (Deprecated NumPy 1.25.)\n",
            "  colgate1.append(float(piper.predict([['colgate',2022,j]])))\n",
            "C:\\Users\\Chinnnolla Koteshwar\\AppData\\Local\\Temp\\ipykernel_16324\\1775140384.py:4: DeprecationWarning: Conversion of an array with ndim > 0 to a scalar is deprecated, and will error in future. Ensure you extract a single element from your array before performing this operation. (Deprecated NumPy 1.25.)\n",
            "  colgate1.append(float(piper.predict([['colgate',2022,j]])))\n",
            "C:\\Users\\Chinnnolla Koteshwar\\AppData\\Local\\Temp\\ipykernel_16324\\1775140384.py:4: DeprecationWarning: Conversion of an array with ndim > 0 to a scalar is deprecated, and will error in future. Ensure you extract a single element from your array before performing this operation. (Deprecated NumPy 1.25.)\n",
            "  colgate1.append(float(piper.predict([['colgate',2022,j]])))\n",
            "C:\\Users\\Chinnnolla Koteshwar\\AppData\\Local\\Temp\\ipykernel_16324\\1775140384.py:4: DeprecationWarning: Conversion of an array with ndim > 0 to a scalar is deprecated, and will error in future. Ensure you extract a single element from your array before performing this operation. (Deprecated NumPy 1.25.)\n",
            "  colgate1.append(float(piper.predict([['colgate',2022,j]])))\n",
            "C:\\Users\\Chinnnolla Koteshwar\\AppData\\Local\\Temp\\ipykernel_16324\\1775140384.py:4: DeprecationWarning: Conversion of an array with ndim > 0 to a scalar is deprecated, and will error in future. Ensure you extract a single element from your array before performing this operation. (Deprecated NumPy 1.25.)\n",
            "  colgate1.append(float(piper.predict([['colgate',2022,j]])))\n",
            "C:\\Users\\Chinnnolla Koteshwar\\AppData\\Local\\Temp\\ipykernel_16324\\1775140384.py:4: DeprecationWarning: Conversion of an array with ndim > 0 to a scalar is deprecated, and will error in future. Ensure you extract a single element from your array before performing this operation. (Deprecated NumPy 1.25.)\n",
            "  colgate1.append(float(piper.predict([['colgate',2022,j]])))\n",
            "C:\\Users\\Chinnnolla Koteshwar\\AppData\\Local\\Temp\\ipykernel_16324\\1775140384.py:4: DeprecationWarning: Conversion of an array with ndim > 0 to a scalar is deprecated, and will error in future. Ensure you extract a single element from your array before performing this operation. (Deprecated NumPy 1.25.)\n",
            "  colgate1.append(float(piper.predict([['colgate',2022,j]])))\n",
            "C:\\Users\\Chinnnolla Koteshwar\\AppData\\Local\\Temp\\ipykernel_16324\\1775140384.py:4: DeprecationWarning: Conversion of an array with ndim > 0 to a scalar is deprecated, and will error in future. Ensure you extract a single element from your array before performing this operation. (Deprecated NumPy 1.25.)\n",
            "  colgate1.append(float(piper.predict([['colgate',2022,j]])))\n",
            "C:\\Users\\Chinnnolla Koteshwar\\AppData\\Local\\Temp\\ipykernel_16324\\1775140384.py:4: DeprecationWarning: Conversion of an array with ndim > 0 to a scalar is deprecated, and will error in future. Ensure you extract a single element from your array before performing this operation. (Deprecated NumPy 1.25.)\n",
            "  colgate1.append(float(piper.predict([['colgate',2022,j]])))\n",
            "C:\\Users\\Chinnnolla Koteshwar\\AppData\\Local\\Temp\\ipykernel_16324\\1775140384.py:4: DeprecationWarning: Conversion of an array with ndim > 0 to a scalar is deprecated, and will error in future. Ensure you extract a single element from your array before performing this operation. (Deprecated NumPy 1.25.)\n",
            "  colgate1.append(float(piper.predict([['colgate',2022,j]])))\n",
            "C:\\Users\\Chinnnolla Koteshwar\\AppData\\Local\\Temp\\ipykernel_16324\\1775140384.py:4: DeprecationWarning: Conversion of an array with ndim > 0 to a scalar is deprecated, and will error in future. Ensure you extract a single element from your array before performing this operation. (Deprecated NumPy 1.25.)\n",
            "  colgate1.append(float(piper.predict([['colgate',2022,j]])))\n",
            "C:\\Users\\Chinnnolla Koteshwar\\AppData\\Local\\Temp\\ipykernel_16324\\1775140384.py:4: DeprecationWarning: Conversion of an array with ndim > 0 to a scalar is deprecated, and will error in future. Ensure you extract a single element from your array before performing this operation. (Deprecated NumPy 1.25.)\n",
            "  colgate1.append(float(piper.predict([['colgate',2022,j]])))\n"
          ]
        }
      ],
      "source": [
        "k=data['product'].unique()\n",
        "colgate1=[]\n",
        "for j in range(1,13):\n",
        "    colgate1.append(float(piper.predict([['colgate',2022,j]])))"
      ]
    },
    {
      "cell_type": "code",
      "execution_count": 31,
      "metadata": {
        "colab": {
          "base_uri": "https://localhost:8080/"
        },
        "id": "iH5jfhCHKkY0",
        "outputId": "ddee3f85-dc93-47d7-d4cd-dca53a7ec91f"
      },
      "outputs": [
        {
          "data": {
            "text/plain": [
              "array(['colgate', 'gemini  tea powder', 'suger', 'freedom sunflower oil',\n",
              "       'life boy soap', 'santoor'], dtype=object)"
            ]
          },
          "execution_count": 31,
          "metadata": {},
          "output_type": "execute_result"
        }
      ],
      "source": [
        "k"
      ]
    },
    {
      "cell_type": "code",
      "execution_count": 32,
      "metadata": {
        "id": "biREQmditgxv"
      },
      "outputs": [
        {
          "name": "stderr",
          "output_type": "stream",
          "text": [
            "C:\\Users\\Chinnnolla Koteshwar\\AppData\\Local\\Temp\\ipykernel_16324\\2863260073.py:10: DeprecationWarning: Conversion of an array with ndim > 0 to a scalar is deprecated, and will error in future. Ensure you extract a single element from your array before performing this operation. (Deprecated NumPy 1.25.)\n",
            "  p1.append(float(piper.predict([[k[i],2022,j]])))\n",
            "C:\\Users\\Chinnnolla Koteshwar\\AppData\\Local\\Temp\\ipykernel_16324\\2863260073.py:10: DeprecationWarning: Conversion of an array with ndim > 0 to a scalar is deprecated, and will error in future. Ensure you extract a single element from your array before performing this operation. (Deprecated NumPy 1.25.)\n",
            "  p1.append(float(piper.predict([[k[i],2022,j]])))\n",
            "C:\\Users\\Chinnnolla Koteshwar\\AppData\\Local\\Temp\\ipykernel_16324\\2863260073.py:10: DeprecationWarning: Conversion of an array with ndim > 0 to a scalar is deprecated, and will error in future. Ensure you extract a single element from your array before performing this operation. (Deprecated NumPy 1.25.)\n",
            "  p1.append(float(piper.predict([[k[i],2022,j]])))\n",
            "C:\\Users\\Chinnnolla Koteshwar\\AppData\\Local\\Temp\\ipykernel_16324\\2863260073.py:10: DeprecationWarning: Conversion of an array with ndim > 0 to a scalar is deprecated, and will error in future. Ensure you extract a single element from your array before performing this operation. (Deprecated NumPy 1.25.)\n",
            "  p1.append(float(piper.predict([[k[i],2022,j]])))\n",
            "C:\\Users\\Chinnnolla Koteshwar\\AppData\\Local\\Temp\\ipykernel_16324\\2863260073.py:10: DeprecationWarning: Conversion of an array with ndim > 0 to a scalar is deprecated, and will error in future. Ensure you extract a single element from your array before performing this operation. (Deprecated NumPy 1.25.)\n",
            "  p1.append(float(piper.predict([[k[i],2022,j]])))\n",
            "C:\\Users\\Chinnnolla Koteshwar\\AppData\\Local\\Temp\\ipykernel_16324\\2863260073.py:10: DeprecationWarning: Conversion of an array with ndim > 0 to a scalar is deprecated, and will error in future. Ensure you extract a single element from your array before performing this operation. (Deprecated NumPy 1.25.)\n",
            "  p1.append(float(piper.predict([[k[i],2022,j]])))\n",
            "C:\\Users\\Chinnnolla Koteshwar\\AppData\\Local\\Temp\\ipykernel_16324\\2863260073.py:10: DeprecationWarning: Conversion of an array with ndim > 0 to a scalar is deprecated, and will error in future. Ensure you extract a single element from your array before performing this operation. (Deprecated NumPy 1.25.)\n",
            "  p1.append(float(piper.predict([[k[i],2022,j]])))\n",
            "C:\\Users\\Chinnnolla Koteshwar\\AppData\\Local\\Temp\\ipykernel_16324\\2863260073.py:10: DeprecationWarning: Conversion of an array with ndim > 0 to a scalar is deprecated, and will error in future. Ensure you extract a single element from your array before performing this operation. (Deprecated NumPy 1.25.)\n",
            "  p1.append(float(piper.predict([[k[i],2022,j]])))\n",
            "C:\\Users\\Chinnnolla Koteshwar\\AppData\\Local\\Temp\\ipykernel_16324\\2863260073.py:10: DeprecationWarning: Conversion of an array with ndim > 0 to a scalar is deprecated, and will error in future. Ensure you extract a single element from your array before performing this operation. (Deprecated NumPy 1.25.)\n",
            "  p1.append(float(piper.predict([[k[i],2022,j]])))\n",
            "C:\\Users\\Chinnnolla Koteshwar\\AppData\\Local\\Temp\\ipykernel_16324\\2863260073.py:10: DeprecationWarning: Conversion of an array with ndim > 0 to a scalar is deprecated, and will error in future. Ensure you extract a single element from your array before performing this operation. (Deprecated NumPy 1.25.)\n",
            "  p1.append(float(piper.predict([[k[i],2022,j]])))\n",
            "C:\\Users\\Chinnnolla Koteshwar\\AppData\\Local\\Temp\\ipykernel_16324\\2863260073.py:10: DeprecationWarning: Conversion of an array with ndim > 0 to a scalar is deprecated, and will error in future. Ensure you extract a single element from your array before performing this operation. (Deprecated NumPy 1.25.)\n",
            "  p1.append(float(piper.predict([[k[i],2022,j]])))\n",
            "C:\\Users\\Chinnnolla Koteshwar\\AppData\\Local\\Temp\\ipykernel_16324\\2863260073.py:10: DeprecationWarning: Conversion of an array with ndim > 0 to a scalar is deprecated, and will error in future. Ensure you extract a single element from your array before performing this operation. (Deprecated NumPy 1.25.)\n",
            "  p1.append(float(piper.predict([[k[i],2022,j]])))\n",
            "C:\\Users\\Chinnnolla Koteshwar\\AppData\\Local\\Temp\\ipykernel_16324\\2863260073.py:12: DeprecationWarning: Conversion of an array with ndim > 0 to a scalar is deprecated, and will error in future. Ensure you extract a single element from your array before performing this operation. (Deprecated NumPy 1.25.)\n",
            "  p2.append(float(piper.predict([[k[i],2022,j]])))\n",
            "C:\\Users\\Chinnnolla Koteshwar\\AppData\\Local\\Temp\\ipykernel_16324\\2863260073.py:12: DeprecationWarning: Conversion of an array with ndim > 0 to a scalar is deprecated, and will error in future. Ensure you extract a single element from your array before performing this operation. (Deprecated NumPy 1.25.)\n",
            "  p2.append(float(piper.predict([[k[i],2022,j]])))\n",
            "C:\\Users\\Chinnnolla Koteshwar\\AppData\\Local\\Temp\\ipykernel_16324\\2863260073.py:12: DeprecationWarning: Conversion of an array with ndim > 0 to a scalar is deprecated, and will error in future. Ensure you extract a single element from your array before performing this operation. (Deprecated NumPy 1.25.)\n",
            "  p2.append(float(piper.predict([[k[i],2022,j]])))\n",
            "C:\\Users\\Chinnnolla Koteshwar\\AppData\\Local\\Temp\\ipykernel_16324\\2863260073.py:12: DeprecationWarning: Conversion of an array with ndim > 0 to a scalar is deprecated, and will error in future. Ensure you extract a single element from your array before performing this operation. (Deprecated NumPy 1.25.)\n",
            "  p2.append(float(piper.predict([[k[i],2022,j]])))\n",
            "C:\\Users\\Chinnnolla Koteshwar\\AppData\\Local\\Temp\\ipykernel_16324\\2863260073.py:12: DeprecationWarning: Conversion of an array with ndim > 0 to a scalar is deprecated, and will error in future. Ensure you extract a single element from your array before performing this operation. (Deprecated NumPy 1.25.)\n",
            "  p2.append(float(piper.predict([[k[i],2022,j]])))\n",
            "C:\\Users\\Chinnnolla Koteshwar\\AppData\\Local\\Temp\\ipykernel_16324\\2863260073.py:12: DeprecationWarning: Conversion of an array with ndim > 0 to a scalar is deprecated, and will error in future. Ensure you extract a single element from your array before performing this operation. (Deprecated NumPy 1.25.)\n",
            "  p2.append(float(piper.predict([[k[i],2022,j]])))\n",
            "C:\\Users\\Chinnnolla Koteshwar\\AppData\\Local\\Temp\\ipykernel_16324\\2863260073.py:12: DeprecationWarning: Conversion of an array with ndim > 0 to a scalar is deprecated, and will error in future. Ensure you extract a single element from your array before performing this operation. (Deprecated NumPy 1.25.)\n",
            "  p2.append(float(piper.predict([[k[i],2022,j]])))\n",
            "C:\\Users\\Chinnnolla Koteshwar\\AppData\\Local\\Temp\\ipykernel_16324\\2863260073.py:12: DeprecationWarning: Conversion of an array with ndim > 0 to a scalar is deprecated, and will error in future. Ensure you extract a single element from your array before performing this operation. (Deprecated NumPy 1.25.)\n",
            "  p2.append(float(piper.predict([[k[i],2022,j]])))\n",
            "C:\\Users\\Chinnnolla Koteshwar\\AppData\\Local\\Temp\\ipykernel_16324\\2863260073.py:12: DeprecationWarning: Conversion of an array with ndim > 0 to a scalar is deprecated, and will error in future. Ensure you extract a single element from your array before performing this operation. (Deprecated NumPy 1.25.)\n",
            "  p2.append(float(piper.predict([[k[i],2022,j]])))\n",
            "C:\\Users\\Chinnnolla Koteshwar\\AppData\\Local\\Temp\\ipykernel_16324\\2863260073.py:12: DeprecationWarning: Conversion of an array with ndim > 0 to a scalar is deprecated, and will error in future. Ensure you extract a single element from your array before performing this operation. (Deprecated NumPy 1.25.)\n",
            "  p2.append(float(piper.predict([[k[i],2022,j]])))\n",
            "C:\\Users\\Chinnnolla Koteshwar\\AppData\\Local\\Temp\\ipykernel_16324\\2863260073.py:12: DeprecationWarning: Conversion of an array with ndim > 0 to a scalar is deprecated, and will error in future. Ensure you extract a single element from your array before performing this operation. (Deprecated NumPy 1.25.)\n",
            "  p2.append(float(piper.predict([[k[i],2022,j]])))\n",
            "C:\\Users\\Chinnnolla Koteshwar\\AppData\\Local\\Temp\\ipykernel_16324\\2863260073.py:12: DeprecationWarning: Conversion of an array with ndim > 0 to a scalar is deprecated, and will error in future. Ensure you extract a single element from your array before performing this operation. (Deprecated NumPy 1.25.)\n",
            "  p2.append(float(piper.predict([[k[i],2022,j]])))\n",
            "C:\\Users\\Chinnnolla Koteshwar\\AppData\\Local\\Temp\\ipykernel_16324\\2863260073.py:14: DeprecationWarning: Conversion of an array with ndim > 0 to a scalar is deprecated, and will error in future. Ensure you extract a single element from your array before performing this operation. (Deprecated NumPy 1.25.)\n",
            "  p3.append(float(piper.predict([[k[i],2022,j]])))\n",
            "C:\\Users\\Chinnnolla Koteshwar\\AppData\\Local\\Temp\\ipykernel_16324\\2863260073.py:14: DeprecationWarning: Conversion of an array with ndim > 0 to a scalar is deprecated, and will error in future. Ensure you extract a single element from your array before performing this operation. (Deprecated NumPy 1.25.)\n",
            "  p3.append(float(piper.predict([[k[i],2022,j]])))\n",
            "C:\\Users\\Chinnnolla Koteshwar\\AppData\\Local\\Temp\\ipykernel_16324\\2863260073.py:14: DeprecationWarning: Conversion of an array with ndim > 0 to a scalar is deprecated, and will error in future. Ensure you extract a single element from your array before performing this operation. (Deprecated NumPy 1.25.)\n",
            "  p3.append(float(piper.predict([[k[i],2022,j]])))\n",
            "C:\\Users\\Chinnnolla Koteshwar\\AppData\\Local\\Temp\\ipykernel_16324\\2863260073.py:14: DeprecationWarning: Conversion of an array with ndim > 0 to a scalar is deprecated, and will error in future. Ensure you extract a single element from your array before performing this operation. (Deprecated NumPy 1.25.)\n",
            "  p3.append(float(piper.predict([[k[i],2022,j]])))\n",
            "C:\\Users\\Chinnnolla Koteshwar\\AppData\\Local\\Temp\\ipykernel_16324\\2863260073.py:14: DeprecationWarning: Conversion of an array with ndim > 0 to a scalar is deprecated, and will error in future. Ensure you extract a single element from your array before performing this operation. (Deprecated NumPy 1.25.)\n",
            "  p3.append(float(piper.predict([[k[i],2022,j]])))\n",
            "C:\\Users\\Chinnnolla Koteshwar\\AppData\\Local\\Temp\\ipykernel_16324\\2863260073.py:14: DeprecationWarning: Conversion of an array with ndim > 0 to a scalar is deprecated, and will error in future. Ensure you extract a single element from your array before performing this operation. (Deprecated NumPy 1.25.)\n",
            "  p3.append(float(piper.predict([[k[i],2022,j]])))\n",
            "C:\\Users\\Chinnnolla Koteshwar\\AppData\\Local\\Temp\\ipykernel_16324\\2863260073.py:14: DeprecationWarning: Conversion of an array with ndim > 0 to a scalar is deprecated, and will error in future. Ensure you extract a single element from your array before performing this operation. (Deprecated NumPy 1.25.)\n",
            "  p3.append(float(piper.predict([[k[i],2022,j]])))\n",
            "C:\\Users\\Chinnnolla Koteshwar\\AppData\\Local\\Temp\\ipykernel_16324\\2863260073.py:14: DeprecationWarning: Conversion of an array with ndim > 0 to a scalar is deprecated, and will error in future. Ensure you extract a single element from your array before performing this operation. (Deprecated NumPy 1.25.)\n",
            "  p3.append(float(piper.predict([[k[i],2022,j]])))\n",
            "C:\\Users\\Chinnnolla Koteshwar\\AppData\\Local\\Temp\\ipykernel_16324\\2863260073.py:14: DeprecationWarning: Conversion of an array with ndim > 0 to a scalar is deprecated, and will error in future. Ensure you extract a single element from your array before performing this operation. (Deprecated NumPy 1.25.)\n",
            "  p3.append(float(piper.predict([[k[i],2022,j]])))\n",
            "C:\\Users\\Chinnnolla Koteshwar\\AppData\\Local\\Temp\\ipykernel_16324\\2863260073.py:14: DeprecationWarning: Conversion of an array with ndim > 0 to a scalar is deprecated, and will error in future. Ensure you extract a single element from your array before performing this operation. (Deprecated NumPy 1.25.)\n",
            "  p3.append(float(piper.predict([[k[i],2022,j]])))\n",
            "C:\\Users\\Chinnnolla Koteshwar\\AppData\\Local\\Temp\\ipykernel_16324\\2863260073.py:14: DeprecationWarning: Conversion of an array with ndim > 0 to a scalar is deprecated, and will error in future. Ensure you extract a single element from your array before performing this operation. (Deprecated NumPy 1.25.)\n",
            "  p3.append(float(piper.predict([[k[i],2022,j]])))\n",
            "C:\\Users\\Chinnnolla Koteshwar\\AppData\\Local\\Temp\\ipykernel_16324\\2863260073.py:14: DeprecationWarning: Conversion of an array with ndim > 0 to a scalar is deprecated, and will error in future. Ensure you extract a single element from your array before performing this operation. (Deprecated NumPy 1.25.)\n",
            "  p3.append(float(piper.predict([[k[i],2022,j]])))\n",
            "C:\\Users\\Chinnnolla Koteshwar\\AppData\\Local\\Temp\\ipykernel_16324\\2863260073.py:16: DeprecationWarning: Conversion of an array with ndim > 0 to a scalar is deprecated, and will error in future. Ensure you extract a single element from your array before performing this operation. (Deprecated NumPy 1.25.)\n",
            "  p4.append(float(piper.predict([[k[i],2022,j]])))\n",
            "C:\\Users\\Chinnnolla Koteshwar\\AppData\\Local\\Temp\\ipykernel_16324\\2863260073.py:16: DeprecationWarning: Conversion of an array with ndim > 0 to a scalar is deprecated, and will error in future. Ensure you extract a single element from your array before performing this operation. (Deprecated NumPy 1.25.)\n",
            "  p4.append(float(piper.predict([[k[i],2022,j]])))\n",
            "C:\\Users\\Chinnnolla Koteshwar\\AppData\\Local\\Temp\\ipykernel_16324\\2863260073.py:16: DeprecationWarning: Conversion of an array with ndim > 0 to a scalar is deprecated, and will error in future. Ensure you extract a single element from your array before performing this operation. (Deprecated NumPy 1.25.)\n",
            "  p4.append(float(piper.predict([[k[i],2022,j]])))\n",
            "C:\\Users\\Chinnnolla Koteshwar\\AppData\\Local\\Temp\\ipykernel_16324\\2863260073.py:16: DeprecationWarning: Conversion of an array with ndim > 0 to a scalar is deprecated, and will error in future. Ensure you extract a single element from your array before performing this operation. (Deprecated NumPy 1.25.)\n",
            "  p4.append(float(piper.predict([[k[i],2022,j]])))\n",
            "C:\\Users\\Chinnnolla Koteshwar\\AppData\\Local\\Temp\\ipykernel_16324\\2863260073.py:16: DeprecationWarning: Conversion of an array with ndim > 0 to a scalar is deprecated, and will error in future. Ensure you extract a single element from your array before performing this operation. (Deprecated NumPy 1.25.)\n",
            "  p4.append(float(piper.predict([[k[i],2022,j]])))\n",
            "C:\\Users\\Chinnnolla Koteshwar\\AppData\\Local\\Temp\\ipykernel_16324\\2863260073.py:16: DeprecationWarning: Conversion of an array with ndim > 0 to a scalar is deprecated, and will error in future. Ensure you extract a single element from your array before performing this operation. (Deprecated NumPy 1.25.)\n",
            "  p4.append(float(piper.predict([[k[i],2022,j]])))\n",
            "C:\\Users\\Chinnnolla Koteshwar\\AppData\\Local\\Temp\\ipykernel_16324\\2863260073.py:16: DeprecationWarning: Conversion of an array with ndim > 0 to a scalar is deprecated, and will error in future. Ensure you extract a single element from your array before performing this operation. (Deprecated NumPy 1.25.)\n",
            "  p4.append(float(piper.predict([[k[i],2022,j]])))\n",
            "C:\\Users\\Chinnnolla Koteshwar\\AppData\\Local\\Temp\\ipykernel_16324\\2863260073.py:16: DeprecationWarning: Conversion of an array with ndim > 0 to a scalar is deprecated, and will error in future. Ensure you extract a single element from your array before performing this operation. (Deprecated NumPy 1.25.)\n",
            "  p4.append(float(piper.predict([[k[i],2022,j]])))\n",
            "C:\\Users\\Chinnnolla Koteshwar\\AppData\\Local\\Temp\\ipykernel_16324\\2863260073.py:16: DeprecationWarning: Conversion of an array with ndim > 0 to a scalar is deprecated, and will error in future. Ensure you extract a single element from your array before performing this operation. (Deprecated NumPy 1.25.)\n",
            "  p4.append(float(piper.predict([[k[i],2022,j]])))\n",
            "C:\\Users\\Chinnnolla Koteshwar\\AppData\\Local\\Temp\\ipykernel_16324\\2863260073.py:16: DeprecationWarning: Conversion of an array with ndim > 0 to a scalar is deprecated, and will error in future. Ensure you extract a single element from your array before performing this operation. (Deprecated NumPy 1.25.)\n",
            "  p4.append(float(piper.predict([[k[i],2022,j]])))\n",
            "C:\\Users\\Chinnnolla Koteshwar\\AppData\\Local\\Temp\\ipykernel_16324\\2863260073.py:16: DeprecationWarning: Conversion of an array with ndim > 0 to a scalar is deprecated, and will error in future. Ensure you extract a single element from your array before performing this operation. (Deprecated NumPy 1.25.)\n",
            "  p4.append(float(piper.predict([[k[i],2022,j]])))\n",
            "C:\\Users\\Chinnnolla Koteshwar\\AppData\\Local\\Temp\\ipykernel_16324\\2863260073.py:16: DeprecationWarning: Conversion of an array with ndim > 0 to a scalar is deprecated, and will error in future. Ensure you extract a single element from your array before performing this operation. (Deprecated NumPy 1.25.)\n",
            "  p4.append(float(piper.predict([[k[i],2022,j]])))\n",
            "C:\\Users\\Chinnnolla Koteshwar\\AppData\\Local\\Temp\\ipykernel_16324\\2863260073.py:18: DeprecationWarning: Conversion of an array with ndim > 0 to a scalar is deprecated, and will error in future. Ensure you extract a single element from your array before performing this operation. (Deprecated NumPy 1.25.)\n",
            "  p5.append(float(piper.predict([[k[i],2022,j]])))\n",
            "C:\\Users\\Chinnnolla Koteshwar\\AppData\\Local\\Temp\\ipykernel_16324\\2863260073.py:18: DeprecationWarning: Conversion of an array with ndim > 0 to a scalar is deprecated, and will error in future. Ensure you extract a single element from your array before performing this operation. (Deprecated NumPy 1.25.)\n",
            "  p5.append(float(piper.predict([[k[i],2022,j]])))\n",
            "C:\\Users\\Chinnnolla Koteshwar\\AppData\\Local\\Temp\\ipykernel_16324\\2863260073.py:18: DeprecationWarning: Conversion of an array with ndim > 0 to a scalar is deprecated, and will error in future. Ensure you extract a single element from your array before performing this operation. (Deprecated NumPy 1.25.)\n",
            "  p5.append(float(piper.predict([[k[i],2022,j]])))\n",
            "C:\\Users\\Chinnnolla Koteshwar\\AppData\\Local\\Temp\\ipykernel_16324\\2863260073.py:18: DeprecationWarning: Conversion of an array with ndim > 0 to a scalar is deprecated, and will error in future. Ensure you extract a single element from your array before performing this operation. (Deprecated NumPy 1.25.)\n",
            "  p5.append(float(piper.predict([[k[i],2022,j]])))\n",
            "C:\\Users\\Chinnnolla Koteshwar\\AppData\\Local\\Temp\\ipykernel_16324\\2863260073.py:18: DeprecationWarning: Conversion of an array with ndim > 0 to a scalar is deprecated, and will error in future. Ensure you extract a single element from your array before performing this operation. (Deprecated NumPy 1.25.)\n",
            "  p5.append(float(piper.predict([[k[i],2022,j]])))\n",
            "C:\\Users\\Chinnnolla Koteshwar\\AppData\\Local\\Temp\\ipykernel_16324\\2863260073.py:18: DeprecationWarning: Conversion of an array with ndim > 0 to a scalar is deprecated, and will error in future. Ensure you extract a single element from your array before performing this operation. (Deprecated NumPy 1.25.)\n",
            "  p5.append(float(piper.predict([[k[i],2022,j]])))\n",
            "C:\\Users\\Chinnnolla Koteshwar\\AppData\\Local\\Temp\\ipykernel_16324\\2863260073.py:18: DeprecationWarning: Conversion of an array with ndim > 0 to a scalar is deprecated, and will error in future. Ensure you extract a single element from your array before performing this operation. (Deprecated NumPy 1.25.)\n",
            "  p5.append(float(piper.predict([[k[i],2022,j]])))\n",
            "C:\\Users\\Chinnnolla Koteshwar\\AppData\\Local\\Temp\\ipykernel_16324\\2863260073.py:18: DeprecationWarning: Conversion of an array with ndim > 0 to a scalar is deprecated, and will error in future. Ensure you extract a single element from your array before performing this operation. (Deprecated NumPy 1.25.)\n",
            "  p5.append(float(piper.predict([[k[i],2022,j]])))\n",
            "C:\\Users\\Chinnnolla Koteshwar\\AppData\\Local\\Temp\\ipykernel_16324\\2863260073.py:18: DeprecationWarning: Conversion of an array with ndim > 0 to a scalar is deprecated, and will error in future. Ensure you extract a single element from your array before performing this operation. (Deprecated NumPy 1.25.)\n",
            "  p5.append(float(piper.predict([[k[i],2022,j]])))\n",
            "C:\\Users\\Chinnnolla Koteshwar\\AppData\\Local\\Temp\\ipykernel_16324\\2863260073.py:18: DeprecationWarning: Conversion of an array with ndim > 0 to a scalar is deprecated, and will error in future. Ensure you extract a single element from your array before performing this operation. (Deprecated NumPy 1.25.)\n",
            "  p5.append(float(piper.predict([[k[i],2022,j]])))\n",
            "C:\\Users\\Chinnnolla Koteshwar\\AppData\\Local\\Temp\\ipykernel_16324\\2863260073.py:18: DeprecationWarning: Conversion of an array with ndim > 0 to a scalar is deprecated, and will error in future. Ensure you extract a single element from your array before performing this operation. (Deprecated NumPy 1.25.)\n",
            "  p5.append(float(piper.predict([[k[i],2022,j]])))\n",
            "C:\\Users\\Chinnnolla Koteshwar\\AppData\\Local\\Temp\\ipykernel_16324\\2863260073.py:18: DeprecationWarning: Conversion of an array with ndim > 0 to a scalar is deprecated, and will error in future. Ensure you extract a single element from your array before performing this operation. (Deprecated NumPy 1.25.)\n",
            "  p5.append(float(piper.predict([[k[i],2022,j]])))\n",
            "C:\\Users\\Chinnnolla Koteshwar\\AppData\\Local\\Temp\\ipykernel_16324\\2863260073.py:20: DeprecationWarning: Conversion of an array with ndim > 0 to a scalar is deprecated, and will error in future. Ensure you extract a single element from your array before performing this operation. (Deprecated NumPy 1.25.)\n",
            "  p6.append(float(piper.predict([[k[i],2022,j]])))\n",
            "C:\\Users\\Chinnnolla Koteshwar\\AppData\\Local\\Temp\\ipykernel_16324\\2863260073.py:20: DeprecationWarning: Conversion of an array with ndim > 0 to a scalar is deprecated, and will error in future. Ensure you extract a single element from your array before performing this operation. (Deprecated NumPy 1.25.)\n",
            "  p6.append(float(piper.predict([[k[i],2022,j]])))\n",
            "C:\\Users\\Chinnnolla Koteshwar\\AppData\\Local\\Temp\\ipykernel_16324\\2863260073.py:20: DeprecationWarning: Conversion of an array with ndim > 0 to a scalar is deprecated, and will error in future. Ensure you extract a single element from your array before performing this operation. (Deprecated NumPy 1.25.)\n",
            "  p6.append(float(piper.predict([[k[i],2022,j]])))\n",
            "C:\\Users\\Chinnnolla Koteshwar\\AppData\\Local\\Temp\\ipykernel_16324\\2863260073.py:20: DeprecationWarning: Conversion of an array with ndim > 0 to a scalar is deprecated, and will error in future. Ensure you extract a single element from your array before performing this operation. (Deprecated NumPy 1.25.)\n",
            "  p6.append(float(piper.predict([[k[i],2022,j]])))\n",
            "C:\\Users\\Chinnnolla Koteshwar\\AppData\\Local\\Temp\\ipykernel_16324\\2863260073.py:20: DeprecationWarning: Conversion of an array with ndim > 0 to a scalar is deprecated, and will error in future. Ensure you extract a single element from your array before performing this operation. (Deprecated NumPy 1.25.)\n",
            "  p6.append(float(piper.predict([[k[i],2022,j]])))\n",
            "C:\\Users\\Chinnnolla Koteshwar\\AppData\\Local\\Temp\\ipykernel_16324\\2863260073.py:20: DeprecationWarning: Conversion of an array with ndim > 0 to a scalar is deprecated, and will error in future. Ensure you extract a single element from your array before performing this operation. (Deprecated NumPy 1.25.)\n",
            "  p6.append(float(piper.predict([[k[i],2022,j]])))\n",
            "C:\\Users\\Chinnnolla Koteshwar\\AppData\\Local\\Temp\\ipykernel_16324\\2863260073.py:20: DeprecationWarning: Conversion of an array with ndim > 0 to a scalar is deprecated, and will error in future. Ensure you extract a single element from your array before performing this operation. (Deprecated NumPy 1.25.)\n",
            "  p6.append(float(piper.predict([[k[i],2022,j]])))\n",
            "C:\\Users\\Chinnnolla Koteshwar\\AppData\\Local\\Temp\\ipykernel_16324\\2863260073.py:20: DeprecationWarning: Conversion of an array with ndim > 0 to a scalar is deprecated, and will error in future. Ensure you extract a single element from your array before performing this operation. (Deprecated NumPy 1.25.)\n",
            "  p6.append(float(piper.predict([[k[i],2022,j]])))\n",
            "C:\\Users\\Chinnnolla Koteshwar\\AppData\\Local\\Temp\\ipykernel_16324\\2863260073.py:20: DeprecationWarning: Conversion of an array with ndim > 0 to a scalar is deprecated, and will error in future. Ensure you extract a single element from your array before performing this operation. (Deprecated NumPy 1.25.)\n",
            "  p6.append(float(piper.predict([[k[i],2022,j]])))\n",
            "C:\\Users\\Chinnnolla Koteshwar\\AppData\\Local\\Temp\\ipykernel_16324\\2863260073.py:20: DeprecationWarning: Conversion of an array with ndim > 0 to a scalar is deprecated, and will error in future. Ensure you extract a single element from your array before performing this operation. (Deprecated NumPy 1.25.)\n",
            "  p6.append(float(piper.predict([[k[i],2022,j]])))\n",
            "C:\\Users\\Chinnnolla Koteshwar\\AppData\\Local\\Temp\\ipykernel_16324\\2863260073.py:20: DeprecationWarning: Conversion of an array with ndim > 0 to a scalar is deprecated, and will error in future. Ensure you extract a single element from your array before performing this operation. (Deprecated NumPy 1.25.)\n",
            "  p6.append(float(piper.predict([[k[i],2022,j]])))\n",
            "C:\\Users\\Chinnnolla Koteshwar\\AppData\\Local\\Temp\\ipykernel_16324\\2863260073.py:20: DeprecationWarning: Conversion of an array with ndim > 0 to a scalar is deprecated, and will error in future. Ensure you extract a single element from your array before performing this operation. (Deprecated NumPy 1.25.)\n",
            "  p6.append(float(piper.predict([[k[i],2022,j]])))\n"
          ]
        }
      ],
      "source": [
        "p1=[]\n",
        "p2=[]\n",
        "p3=[]\n",
        "p4=[]\n",
        "p5=[]\n",
        "p6=[]\n",
        "for i in range(0,6):\n",
        "  for j in range(1,13):\n",
        "    if i==0:\n",
        "      p1.append(float(piper.predict([[k[i],2022,j]])))\n",
        "    if i==1:\n",
        "      p2.append(float(piper.predict([[k[i],2022,j]])))\n",
        "    if i==2:\n",
        "      p3.append(float(piper.predict([[k[i],2022,j]])))\n",
        "    if i==3:\n",
        "      p4.append(float(piper.predict([[k[i],2022,j]])))\n",
        "    if i==4:\n",
        "      p5.append(float(piper.predict([[k[i],2022,j]])))\n",
        "    if i==5:\n",
        "      p6.append(float(piper.predict([[k[i],2022,j]])))\n",
        "    \n"
      ]
    },
    {
      "cell_type": "code",
      "execution_count": 33,
      "metadata": {
        "colab": {
          "base_uri": "https://localhost:8080/"
        },
        "id": "TIylIBBixiuC",
        "outputId": "fa966242-0398-4700-db52-153d550feed3"
      },
      "outputs": [
        {
          "data": {
            "text/plain": [
              "[40.91,\n",
              " 42.89,\n",
              " 45.92,\n",
              " 39.84,\n",
              " 35.46,\n",
              " 37.18,\n",
              " 37.78,\n",
              " 38.52,\n",
              " 38.5,\n",
              " 37.52,\n",
              " 37.18,\n",
              " 37.98]"
            ]
          },
          "execution_count": 33,
          "metadata": {},
          "output_type": "execute_result"
        }
      ],
      "source": [
        "p2"
      ]
    },
    {
      "cell_type": "markdown",
      "metadata": {},
      "source": [
        "# month vs demand graph"
      ]
    },
    {
      "cell_type": "code",
      "execution_count": 34,
      "metadata": {
        "colab": {
          "base_uri": "https://localhost:8080/",
          "height": 295
        },
        "id": "RaIpUBBwt0GV",
        "outputId": "233a4b03-4e11-4286-9f2a-fc3a55961164"
      },
      "outputs": [
        {
          "data": {
            "image/png": "[encoded data removed]",
            "text/plain": [
              "<Figure size 640x480 with 1 Axes>"
            ]
          },
          "metadata": {},
          "output_type": "display_data"
        }
      ],
      "source": [
        "month=data.iloc[:12,[3]].values\n",
        "plt.plot(month,p1,c='red',label='p1')\n",
        "plt.plot(month,p2,c='green',label='p2')\n",
        "plt.plot(month,p3,c='blue',label='p3')\n",
        "plt.plot(month,p4,c='magenta',label='p4')\n",
        "plt.plot(month,p5,c='cyan',label='p5')\n",
        "plt.plot(month,p6,c='black',label='p6')\n",
        "plt.title('month va sold products')\n",
        "plt.xlabel('month')\n",
        "plt.ylabel('products')\n",
        "plt.legend()\n",
        "plt.show()"
      ]
    },
    {
      "cell_type": "code",
      "execution_count": 35,
      "metadata": {
        "colab": {
          "base_uri": "https://localhost:8080/",
          "height": 266
        },
        "id": "4njQ3tdoLZ0c",
        "outputId": "e1337042-0293-467a-f0f5-b9c6e07ade11"
      },
      "outputs": [
        {
          "data": {
            "image/png": "[encoded data removed]",
            "text/plain": [
              "<Figure size 640x480 with 1 Axes>"
            ]
          },
          "metadata": {},
          "output_type": "display_data"
        }
      ],
      "source": [
        "month=data.iloc[:12,[3]].values\n",
        "plt.plot(month,colgate1,c='red',label='p1')\n",
        "plt.show()"
      ]
    },
    {
      "cell_type": "code",
      "execution_count": 36,
      "metadata": {
        "colab": {
          "base_uri": "https://localhost:8080/"
        },
        "id": "WW0RMOAQaumf",
        "outputId": "171021f7-b97e-43b1-cfc2-160e2ed89aa3"
      },
      "outputs": [
        {
          "data": {
            "text/plain": [
              "array(['colgate', 'gemini  tea powder', 'suger', 'freedom sunflower oil',\n",
              "       'life boy soap', 'santoor'], dtype=object)"
            ]
          },
          "execution_count": 36,
          "metadata": {},
          "output_type": "execute_result"
        }
      ],
      "source": [
        "k"
      ]
    },
    {
      "cell_type": "code",
      "execution_count": 37,
      "metadata": {
        "id": "j4LbJeP-sdYW"
      },
      "outputs": [],
      "source": [
        "m=0\n",
        "n=36\n",
        "p=[]\n",
        "for i in range(0,6):\n",
        "    k[i]=data.iloc[m:n,[0,1,3,6]]\n",
        "    k[i]=pd.DataFrame(k[i])\n",
        "    k[i]=k[i].rename(columns={0:\"product\",1:'year',2:'month',3:'sold product'})\n",
        "    m= n\n",
        "    n=n+41\n"
      ]
    },
    {
      "cell_type": "code",
      "execution_count": 38,
      "metadata": {
        "id": "spdKOiX7sjRB"
      },
      "outputs": [],
      "source": [
        "b=k[0]['month'].unique().tolist()"
      ]
    },
    {
      "cell_type": "code",
      "execution_count": 39,
      "metadata": {},
      "outputs": [],
      "source": [
        "def to2D(twoD):\n",
        "    oneD = []\n",
        "    for i in twoD:\n",
        "        oneD.extend(i)\n",
        "    return(oneD)"
      ]
    },
    {
      "cell_type": "code",
      "execution_count": 41,
      "metadata": {},
      "outputs": [
        {
          "data": {
            "text/plain": [
              "[74, 86, 89, 95, 112, 98, 99, 115, 112, 98, 110, 109]"
            ]
          },
          "execution_count": 41,
          "metadata": {},
          "output_type": "execute_result"
        }
      ],
      "source": [
        "\n",
        "to2D(k[0].iloc[24:36,[3]].values.tolist())"
      ]
    },
    {
      "cell_type": "markdown",
      "metadata": {},
      "source": [
        "# pie chart"
      ]
    },
    {
      "cell_type": "code",
      "execution_count": null,
      "metadata": {},
      "outputs": [],
      "source": [
        "fig, ax = plt.subplots()\n",
        "ax.pie(to2D(k[0].iloc[:12,[3]].values.tolist()),labels=b,autopct='%1.1f%%')\n",
        "ax.set_title('colgate 2019')\n",
        "fig,ax2 = plt.subplots()\n",
        "ax2.pie(to2D(k[0].iloc[12:24,[3]].values.tolist()),labels=b,autopct='%1.1f%%')\n",
        "ax2.set_title('colgate 2020')\n",
        "fig,ax3 = plt.subplots()\n",
        "ax3.pie(to2D(k[0].iloc[24:36,[3]].values.tolist()),labels=b,autopct='%1.1f%%')\n",
        "ax3.set_title('colgate 2021')"
      ]
    },
    {
      "cell_type": "markdown",
      "metadata": {},
      "source": [
        "# Bar graph"
      ]
    },
    {
      "cell_type": "code",
      "execution_count": 43,
      "metadata": {},
      "outputs": [],
      "source": [
        "# for i in range(0,6):\n",
        "#   k[i]=k[i].pivot(index='month', columns = 'year',values = 'no. of products sold')"
      ]
    },
    {
      "cell_type": "code",
      "execution_count": null,
      "metadata": {
        "colab": {
          "base_uri": "https://localhost:8080/",
          "height": 1000
        },
        "id": "-sQO4Suzvq1m",
        "outputId": "46a6721c-ffc0-4d7e-ee4f-7303903639af"
      },
      "outputs": [],
      "source": [
        "# for i in range(0,6):\n",
        "#   k[i].plot(kind='bar',figsize=(10,6))\n",
        "#   plt.xlabel('month')\n",
        "#   plt.ylabel('sold product')"
      ]
    },
    {
      "cell_type": "code",
      "execution_count": null,
      "metadata": {
        "id": "XNzMrvMydy-N"
      },
      "outputs": [],
      "source": [
        "# colgate=data.iloc[:36,[0,1,2,5]].values\n",
        "# colgate=pd.DataFrame(colgate)\n",
        "# colgate=colgate.rename(columns={0:\"product\",1:'year',2:'month',3:'sold product'})\n",
        "# colgate"
      ]
    },
    {
      "cell_type": "code",
      "execution_count": null,
      "metadata": {
        "id": "9hjHpNfenMGk"
      },
      "outputs": [],
      "source": [
        "# gta= data.iloc[36:72,[0,1,2,5]].values\n",
        "# gta=pd.DataFrame(gta)\n",
        "# gta=gta.rename(columns={0:\"product\",1:'year',2:'month',3:'sold product'})\n",
        "# gta"
      ]
    },
    {
      "cell_type": "markdown",
      "metadata": {},
      "source": [
        "# xgboost"
      ]
    },
    {
      "cell_type": "code",
      "execution_count": 37,
      "metadata": {},
      "outputs": [
        {
          "name": "stdout",
          "output_type": "stream",
          "text": [
            "Requirement already satisfied: xgboost in c:\\users\\chinnnolla koteshwar\\anaconda3\\lib\\site-packages (1.6.1)\n",
            "Requirement already satisfied: scipy in c:\\users\\chinnnolla koteshwar\\anaconda3\\lib\\site-packages (from xgboost) (1.7.3)\n",
            "Requirement already satisfied: numpy in c:\\users\\chinnnolla koteshwar\\anaconda3\\lib\\site-packages (from xgboost) (1.21.5)\n"
          ]
        }
      ],
      "source": [
        "!pip install xgboost"
      ]
    },
    {
      "cell_type": "code",
      "execution_count": 38,
      "metadata": {},
      "outputs": [
        {
          "ename": "ModuleNotFoundError",
          "evalue": "No module named 'xgboost'",
          "output_type": "error",
          "traceback": [
            "\u001b[1;31m---------------------------------------------------------------------------\u001b[0m",
            "\u001b[1;31mModuleNotFoundError\u001b[0m                       Traceback (most recent call last)",
            "Cell \u001b[1;32mIn[38], line 1\u001b[0m\n\u001b[1;32m----> 1\u001b[0m \u001b[38;5;28;01mimport\u001b[39;00m \u001b[38;5;21;01mxgboost\u001b[39;00m \u001b[38;5;28;01mas\u001b[39;00m \u001b[38;5;21;01mxg\u001b[39;00m\n\u001b[0;32m      2\u001b[0m xgb_r \u001b[38;5;241m=\u001b[39m xg\u001b[38;5;241m.\u001b[39mXGBRegressor(objective \u001b[38;5;241m=\u001b[39m\u001b[38;5;124m'\u001b[39m\u001b[38;5;124mreg:linear\u001b[39m\u001b[38;5;124m'\u001b[39m,n_estimators \u001b[38;5;241m=\u001b[39m \u001b[38;5;241m10\u001b[39m, seed \u001b[38;5;241m=\u001b[39m \u001b[38;5;241m123\u001b[39m)\n\u001b[0;32m      3\u001b[0m pipex \u001b[38;5;241m=\u001b[39m make_pipeline(ct,xgb_r)\n",
            "\u001b[1;31mModuleNotFoundError\u001b[0m: No module named 'xgboost'"
          ]
        }
      ],
      "source": [
        "import xgboost as xg\n",
        "xgb_r = xg.XGBRegressor(objective ='reg:linear',n_estimators = 10, seed = 123)\n",
        "pipex = make_pipeline(ct,xgb_r)\n",
        "pipex.fit(x_train, y_train)\n",
        "y_pred= pipex.predict(x_test)\n",
        "r2_score(y_test, y_pred)"
      ]
    },
    {
      "cell_type": "code",
      "execution_count": 48,
      "metadata": {},
      "outputs": [
        {
          "data": {
            "text/plain": [
              "array([101.200615], dtype=float32)"
            ]
          },
          "execution_count": 48,
          "metadata": {},
          "output_type": "execute_result"
        }
      ],
      "source": [
        "pipex.predict([['colgate',2022,3]])"
      ]
    },
    {
      "cell_type": "code",
      "execution_count": 49,
      "metadata": {},
      "outputs": [
        {
          "data": {
            "text/plain": [
              "'gemini  tea powder'"
            ]
          },
          "execution_count": 49,
          "metadata": {},
          "output_type": "execute_result"
        }
      ],
      "source": [
        "k=data['product'].unique()\n",
        "k[1]"
      ]
    },
    {
      "cell_type": "markdown",
      "metadata": {},
      "source": [
        "# month vs sold prodects"
      ]
    },
    {
      "cell_type": "markdown",
      "metadata": {
        "id": "8PMtTyh1L21i"
      },
      "source": [
        "# pickle"
      ]
    },
    {
      "cell_type": "code",
      "execution_count": null,
      "metadata": {
        "id": "m5TbgpslF-PQ"
      },
      "outputs": [],
      "source": [
        "import pickle\n",
        "pickle.dump(piper,open('dpprod.pkl','wb'))"
      ]
    },
    {
      "cell_type": "code",
      "execution_count": 13,
      "metadata": {},
      "outputs": [],
      "source": [
        "a=[i+j for i in range(5) for j in range(5) if i+j < 6]"
      ]
    },
    {
      "cell_type": "code",
      "execution_count": 11,
      "metadata": {},
      "outputs": [],
      "source": [
        "a = [i + j if i + j < 6 else -1 for i in range(5) for j in range(5)]"
      ]
    },
    {
      "cell_type": "code",
      "execution_count": 15,
      "metadata": {},
      "outputs": [
        {
          "data": {
            "text/plain": [
              "[[0, 1, 2, 3, 4],\n",
              " [1, 2, 3, 4, 5],\n",
              " [2, 3, 4, 5, 6],\n",
              " [3, 4, 5, 6, 7],\n",
              " [4, 5, 6, 7, 8]]"
            ]
          },
          "execution_count": 15,
          "metadata": {},
          "output_type": "execute_result"
        }
      ],
      "source": [
        "a=[[k+i for k in range(5)] for i in range(5)]\n",
        "a"
      ]
    },
    {
      "cell_type": "code",
      "execution_count": 22,
      "metadata": {},
      "outputs": [
        {
          "data": {
            "text/plain": [
              "[6, 7, 8, 9, 10]"
            ]
          },
          "execution_count": 22,
          "metadata": {},
          "output_type": "execute_result"
        }
      ],
      "source": [
        "s=(lambda x,y: x + y)\n",
        "a = [s(i,6) for i in range(5)]\n",
        "a"
      ]
    }
  ],
  "metadata": {
    "colab": {
      "collapsed_sections": [],
      "name": "product1.ipynb",
      "provenance": []
    },
    "kernelspec": {
      "display_name": "base",
      "language": "python",
      "name": "python3"
    },
    "language_info": {
      "codemirror_mode": {
        "name": "ipython",
        "version": 3
      },
      "file_extension": ".py",
      "mimetype": "text/x-python",
      "name": "python",
      "nbconvert_exporter": "python",
      "pygments_lexer": "ipython3",
      "version": "3.9.12"
    }
  },
  "nbformat": 4,
  "nbformat_minor": 0
}
