{
 "cells": [
  {
   "cell_type": "code",
   "execution_count": 1,
   "metadata": {},
   "outputs": [],
   "source": [
    "import numpy as np\n",
    "import pandas as pd\n",
    "from IPython.display import Image, display, HTML"
   ]
  },
  {
   "cell_type": "code",
   "execution_count": 2,
   "metadata": {},
   "outputs": [
    {
     "data": {
      "text/html": [
       "<div>\n",
       "<style scoped>\n",
       "    .dataframe tbody tr th:only-of-type {\n",
       "        vertical-align: middle;\n",
       "    }\n",
       "\n",
       "    .dataframe tbody tr th {\n",
       "        vertical-align: top;\n",
       "    }\n",
       "\n",
       "    .dataframe thead th {\n",
       "        text-align: right;\n",
       "    }\n",
       "</style>\n",
       "<table border=\"1\" class=\"dataframe\">\n",
       "  <thead>\n",
       "    <tr style=\"text-align: right;\">\n",
       "      <th></th>\n",
       "      <th>product</th>\n",
       "      <th>year</th>\n",
       "      <th>expiri duretion in years</th>\n",
       "      <th>month</th>\n",
       "      <th>no. of new products bought</th>\n",
       "      <th>no of products left for selling</th>\n",
       "      <th>no. of products sold</th>\n",
       "      <th>prodects left</th>\n",
       "      <th>no of products to be bought</th>\n",
       "      <th>demand %</th>\n",
       "    </tr>\n",
       "  </thead>\n",
       "  <tbody>\n",
       "    <tr>\n",
       "      <th>0</th>\n",
       "      <td>colgate</td>\n",
       "      <td>2019</td>\n",
       "      <td>2.0</td>\n",
       "      <td>1</td>\n",
       "      <td>60</td>\n",
       "      <td>60</td>\n",
       "      <td>46</td>\n",
       "      <td>0</td>\n",
       "      <td>46.0</td>\n",
       "      <td>76.666667</td>\n",
       "    </tr>\n",
       "    <tr>\n",
       "      <th>1</th>\n",
       "      <td>colgate</td>\n",
       "      <td>2019</td>\n",
       "      <td>2.0</td>\n",
       "      <td>2</td>\n",
       "      <td>32</td>\n",
       "      <td>46</td>\n",
       "      <td>38</td>\n",
       "      <td>14</td>\n",
       "      <td>24.0</td>\n",
       "      <td>118.750000</td>\n",
       "    </tr>\n",
       "    <tr>\n",
       "      <th>2</th>\n",
       "      <td>colgate</td>\n",
       "      <td>2019</td>\n",
       "      <td>2.0</td>\n",
       "      <td>3</td>\n",
       "      <td>40</td>\n",
       "      <td>62</td>\n",
       "      <td>47</td>\n",
       "      <td>22</td>\n",
       "      <td>25.0</td>\n",
       "      <td>117.500000</td>\n",
       "    </tr>\n",
       "    <tr>\n",
       "      <th>3</th>\n",
       "      <td>colgate</td>\n",
       "      <td>2019</td>\n",
       "      <td>2.0</td>\n",
       "      <td>4</td>\n",
       "      <td>36</td>\n",
       "      <td>51</td>\n",
       "      <td>40</td>\n",
       "      <td>15</td>\n",
       "      <td>25.0</td>\n",
       "      <td>111.111111</td>\n",
       "    </tr>\n",
       "    <tr>\n",
       "      <th>4</th>\n",
       "      <td>colgate</td>\n",
       "      <td>2019</td>\n",
       "      <td>2.0</td>\n",
       "      <td>5</td>\n",
       "      <td>56</td>\n",
       "      <td>67</td>\n",
       "      <td>58</td>\n",
       "      <td>11</td>\n",
       "      <td>47.0</td>\n",
       "      <td>103.571429</td>\n",
       "    </tr>\n",
       "  </tbody>\n",
       "</table>\n",
       "</div>"
      ],
      "text/plain": [
       "   product  year  expiri duretion in years  month  \\\n",
       "0  colgate  2019                       2.0      1   \n",
       "1  colgate  2019                       2.0      2   \n",
       "2  colgate  2019                       2.0      3   \n",
       "3  colgate  2019                       2.0      4   \n",
       "4  colgate  2019                       2.0      5   \n",
       "\n",
       "   no. of new products bought    no of products left for selling  \\\n",
       "0                            60                               60   \n",
       "1                            32                               46   \n",
       "2                            40                               62   \n",
       "3                            36                               51   \n",
       "4                            56                               67   \n",
       "\n",
       "   no. of products sold  prodects left  no of products to be bought  \\\n",
       "0                    46              0                         46.0   \n",
       "1                    38             14                         24.0   \n",
       "2                    47             22                         25.0   \n",
       "3                    40             15                         25.0   \n",
       "4                    58             11                         47.0   \n",
       "\n",
       "     demand %  \n",
       "0   76.666667  \n",
       "1  118.750000  \n",
       "2  117.500000  \n",
       "3  111.111111  \n",
       "4  103.571429  "
      ]
     },
     "execution_count": 2,
     "metadata": {},
     "output_type": "execute_result"
    }
   ],
   "source": [
    "data=pd.read_csv('prod_.csv')\n",
    "data.head()"
   ]
  },
  {
   "cell_type": "code",
   "execution_count": 3,
   "metadata": {},
   "outputs": [],
   "source": [
    "unique_ele=data['product'].unique()\n",
    "unique_ele_dict={}\n",
    "for i in range(1,len(unique_ele)+1):\n",
    "    unique_ele_dict[unique_ele[i-1]]=i\n",
    "\n",
    "data['encoded_product']=data['product'].map(unique_ele_dict)"
   ]
  },
  {
   "cell_type": "code",
   "execution_count": 4,
   "metadata": {},
   "outputs": [],
   "source": [
    "x = data.iloc[:,[10,1,3]].values\n",
    "y = data.iloc[:, [6]].values"
   ]
  },
  {
   "cell_type": "code",
   "execution_count": 5,
   "metadata": {},
   "outputs": [],
   "source": [
    "X_train , X_test = x[:int(len(x)*0.912)], x[int(len(x)*0.912):]\n",
    "y_train , y_test = y[:int(len(y)*0.912)], y[int(len(y)*0.912):]"
   ]
  },
  {
   "cell_type": "code",
   "execution_count": 6,
   "metadata": {},
   "outputs": [
    {
     "data": {
      "text/plain": [
       "([array([[-0.34079922, -0.21047204, -0.99497449,  1.96891448, -0.5081397 ],\n",
       "         [-0.31424152,  0.1911341 ,  0.56389082, -0.07823576,  1.1622859 ],\n",
       "         [ 1.73607568,  0.75370906,  1.76489033, -1.67147678,  0.8384542 ]]),\n",
       "  array([[ 1.25501756,  1.5223752 ,  0.52921221,  0.591489  ],\n",
       "         [-2.57374657,  1.72590439,  0.11340509, -2.00196375],\n",
       "         [ 0.81958707, -0.53441026, -0.25682234, -0.60168224],\n",
       "         [ 1.45449966, -1.42054309,  0.08575983, -1.61930855],\n",
       "         [ 0.93174537, -0.63240673, -0.75251456, -0.28721873]]),\n",
       "  array([[-1.14043857,  0.14250989, -1.81257715,  0.39949025,  0.8895264 ],\n",
       "         [-0.16832875,  0.77585254, -0.70488248,  0.8399151 ,  1.4318189 ],\n",
       "         [ 1.34347579,  0.18883698,  2.13272191, -1.08896785, -1.95969787],\n",
       "         [ 0.43644605,  1.07380243, -1.26955767, -0.0291219 , -0.04970331]]),\n",
       "  array([[ 5.10513883e-01, -8.48531918e-01,  8.31896874e-01],\n",
       "         [-1.98539114e+00,  1.25359761e+00, -4.59078192e-03],\n",
       "         [-1.08700715e+00, -1.32159603e+00,  1.22478124e+00],\n",
       "         [-1.64421447e-03,  3.19582711e-01, -8.13457601e-01],\n",
       "         [ 1.51878599e-01,  4.96045977e-01, -1.12932434e-01]]),\n",
       "  array([[-1.05016146],\n",
       "         [-0.93273498],\n",
       "         [-0.70875505]])],\n",
       " [array([ 0.02951639,  1.43459704, -1.37048492, -1.18124659,  0.01316555]),\n",
       "  array([ 1.30112474, -1.48564062,  0.67968499, -0.93779338]),\n",
       "  array([ 0.12902111, -0.3222823 ,  1.56488303, -0.08113952,  0.14067065]),\n",
       "  array([-0.79289699, -0.05899711, -0.00152022]),\n",
       "  array([-0.22051381])])"
      ]
     },
     "execution_count": 6,
     "metadata": {},
     "output_type": "execute_result"
    }
   ],
   "source": [
    "from customNNs.ANNmodel import ANNmodel\n",
    "model=ANNmodel()\n",
    "model.add(3,5)\n",
    "model.add(5,4)\n",
    "model.add(4,5)\n",
    "model.add(5,3)\n",
    "model.add(3,1)"
   ]
  },
  {
   "cell_type": "code",
   "execution_count": 7,
   "metadata": {},
   "outputs": [
    {
     "name": "stdout",
     "output_type": "stream",
     "text": [
      "24049.549019607843\n",
      "11760.562444351226\n",
      "11335.302362586544\n",
      "11320.904757258319\n",
      "11320.417311932326\n",
      "11320.400808983371\n",
      "11320.400250259527\n",
      "11320.400231343378\n",
      "11320.400230702951\n",
      "11320.400230681267\n"
     ]
    },
    {
     "data": {
      "text/plain": [
       "([array([[-3.40799216e-01,  5.71413494e+02, -1.83023623e+02,\n",
       "           1.96891448e+00, -2.07446924e+02],\n",
       "         [-3.14241520e-01,  3.33752129e+05, -1.06279819e+05,\n",
       "          -7.82357580e-02, -1.20823408e+05],\n",
       "         [ 1.73607568e+00,  1.08107491e+03, -3.42253939e+02,\n",
       "          -1.67147678e+00, -3.90258436e+02]]),\n",
       "  array([[ 1.25501756e+00,  1.52237520e+00,  5.29212213e-01,\n",
       "           5.91489003e-01],\n",
       "         [-2.51497034e+04,  1.72590439e+00,  1.13405087e-01,\n",
       "          -2.00196375e+00],\n",
       "         [-7.35538653e+04, -5.34410262e-01, -2.56822338e-01,\n",
       "          -6.01682238e-01],\n",
       "         [ 1.45449966e+00, -1.42054309e+00,  8.57598297e-02,\n",
       "          -1.61930855e+00],\n",
       "         [-1.50959029e+05, -6.32406734e-01, -7.52514558e-01,\n",
       "          -2.87218732e-01]]),\n",
       "  array([[-1.14043857e+00, -2.28565205e+05, -1.81257715e+00,\n",
       "          -5.82683246e+04, -9.04419448e+04],\n",
       "         [-1.68328754e-01,  7.75852544e-01, -7.04882481e-01,\n",
       "           8.39915096e-01,  1.43181890e+00],\n",
       "         [ 1.34347579e+00,  1.88836984e-01,  2.13272191e+00,\n",
       "          -1.08896785e+00, -1.95969787e+00],\n",
       "         [ 4.36446046e-01,  1.07380243e+00, -1.26955767e+00,\n",
       "          -2.91218996e-02, -4.97033104e-02]]),\n",
       "  array([[ 5.10513883e-01, -8.48531918e-01,  8.31896874e-01],\n",
       "         [-1.98539114e+00, -2.59545476e+04, -4.59078192e-03],\n",
       "         [-1.08700715e+00, -1.32159603e+00,  1.22478124e+00],\n",
       "         [-1.64421447e-03, -7.28307806e+04, -8.13457601e-01],\n",
       "         [ 1.51878599e-01, -1.62196730e+05, -1.12932434e-01]]),\n",
       "  array([[-1.05016146e+00],\n",
       "         [ 1.46091912e+05],\n",
       "         [-7.08755055e-01]])],\n",
       " [array([ 2.95163886e-02,  1.66654956e+02, -5.39834620e+01, -1.18124659e+00,\n",
       "         -5.97997575e+01]),\n",
       "  array([-62.89336945,  -1.48564062,   0.67968499,  -0.93779338]),\n",
       "  array([   0.12902111, -107.97035549,    1.56488303,  -27.52412654,\n",
       "          -42.45544875]),\n",
       "  array([-7.92896990e-01, -8.59303102e+01, -1.52022087e-03]),\n",
       "  array([112.82352434])],\n",
       " [24049.549019607843,\n",
       "  11760.562444351226,\n",
       "  11335.302362586544,\n",
       "  11320.904757258319,\n",
       "  11320.417311932326,\n",
       "  11320.400808983371,\n",
       "  11320.400250259527,\n",
       "  11320.400231343378,\n",
       "  11320.400230702951,\n",
       "  11320.400230681267])"
      ]
     },
     "execution_count": 7,
     "metadata": {},
     "output_type": "execute_result"
    }
   ],
   "source": [
    "model.train(X_train=X_train,y_train=y_train,e=10)"
   ]
  }
 ],
 "metadata": {
  "kernelspec": {
   "display_name": "base",
   "language": "python",
   "name": "python3"
  },
  "language_info": {
   "codemirror_mode": {
    "name": "ipython",
    "version": 3
   },
   "file_extension": ".py",
   "mimetype": "text/x-python",
   "name": "python",
   "nbconvert_exporter": "python",
   "pygments_lexer": "ipython3",
   "version": "3.9.12"
  }
 },
 "nbformat": 4,
 "nbformat_minor": 2
}
